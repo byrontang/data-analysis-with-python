{
 "cells": [
  {
   "cell_type": "markdown",
   "metadata": {},
   "source": [
    "# Python Data Analysis Foundation and Numpy\n",
    "\n",
    "This notebook collects codes and concepts for the foundations of data analysis in Python. Numpy package is also introduced to compensate the mathmetical operations incapable of doing by Python list. To give an overview of this document, the following topics are discussed:\n",
    "\n",
    "I. Data Structure: List, Numpy (with random walk simulation), dictionary, and tuple\n",
    "\n",
    "II. Loop: for loop, enumerate, list comprehension, and generator\n",
    "\n",
    "III. Useful Packages and Functions: The codes in this section will keep expanding to collect any useful packages and functions for programming. \n",
    "\n",
    "## I. Data Structure\n",
    "### List Manipulation"
   ]
  },
  {
   "cell_type": "code",
   "execution_count": 1,
   "metadata": {},
   "outputs": [
    {
     "data": {
      "text/plain": [
       "['apple', 1.5, 'banana', 0.98, 'strawberry', 3.49]"
      ]
     },
     "execution_count": 1,
     "metadata": {},
     "output_type": "execute_result"
    }
   ],
   "source": [
    "fruits = [\"apple\", 1.5, \"banana\", 0.98, \"strawberry\", 3.49]\n",
    "fruits"
   ]
  },
  {
   "cell_type": "code",
   "execution_count": 2,
   "metadata": {},
   "outputs": [
    {
     "data": {
      "text/plain": [
       "['apple', 1.5, 'banana', 0.98, 'strawberry', 3.49, 'mango', 1.69]"
      ]
     },
     "execution_count": 2,
     "metadata": {},
     "output_type": "execute_result"
    }
   ],
   "source": [
    "# Extend the list\n",
    "fruits = fruits + [\"mango\", 1.69]\n",
    "fruits"
   ]
  },
  {
   "cell_type": "code",
   "execution_count": 3,
   "metadata": {},
   "outputs": [
    {
     "data": {
      "text/plain": [
       "['banana', 0.98, 'strawberry', 3.49, 'mango', 1.69]"
      ]
     },
     "execution_count": 3,
     "metadata": {},
     "output_type": "execute_result"
    }
   ],
   "source": [
    "# Delete items from the list\n",
    "del(fruits[0:2])\n",
    "fruits"
   ]
  },
  {
   "cell_type": "code",
   "execution_count": 4,
   "metadata": {},
   "outputs": [
    {
     "name": "stdout",
     "output_type": "stream",
     "text": [
      "Make smoothies:  ['strawberry', 3.49, 'mango', 1.69]\n",
      "Buy fruits:  ['strawberry', 3.49, 'mango', 1.69]\n"
     ]
    }
   ],
   "source": [
    "# When you copy x to y, you’re copying the reference, not the value itself.\n",
    "smoothies = fruits\n",
    "del(smoothies[0:2])\n",
    "print(\"Make smoothies: \", smoothies)\n",
    "print(\"Buy fruits: \", fruits)"
   ]
  },
  {
   "cell_type": "code",
   "execution_count": 5,
   "metadata": {},
   "outputs": [
    {
     "name": "stdout",
     "output_type": "stream",
     "text": [
      "['mango', 1.69] ['strawberry', 3.49, 'mango', 1.69]\n"
     ]
    }
   ],
   "source": [
    "# To create a new list, use:\n",
    "smoothies_new = list(smoothies)\n",
    "del(smoothies_new[0:2])\n",
    "print(smoothies_new, smoothies)"
   ]
  },
  {
   "cell_type": "code",
   "execution_count": 6,
   "metadata": {},
   "outputs": [
    {
     "name": "stdout",
     "output_type": "stream",
     "text": [
      "['mango', 1.69] ['strawberry', 3.49, 'mango', 1.69]\n"
     ]
    }
   ],
   "source": [
    "# Or use:\n",
    "fruits_new = fruits[:]\n",
    "del(fruits_new[0:2])\n",
    "print(fruits_new, fruits)"
   ]
  },
  {
   "cell_type": "code",
   "execution_count": 7,
   "metadata": {},
   "outputs": [
    {
     "name": "stdout",
     "output_type": "stream",
     "text": [
      "2\n",
      "1\n"
     ]
    }
   ],
   "source": [
    "# List Methods\n",
    "print(fruits.index(\"mango\"))\n",
    "print(fruits.count(\"mango\"))"
   ]
  },
  {
   "cell_type": "code",
   "execution_count": 8,
   "metadata": {},
   "outputs": [
    {
     "name": "stdout",
     "output_type": "stream",
     "text": [
      "['a', 'b', 'c']\n"
     ]
    },
    {
     "data": {
      "text/plain": [
       "list"
      ]
     },
     "execution_count": 8,
     "metadata": {},
     "output_type": "execute_result"
    }
   ],
   "source": [
    "# create list from string\n",
    "x = 'a,b,c'\n",
    "x_list = x.split(',')\n",
    "print(x_list)\n",
    "type(x_list)"
   ]
  },
  {
   "cell_type": "markdown",
   "metadata": {},
   "source": [
    "### Numpy"
   ]
  },
  {
   "cell_type": "code",
   "execution_count": 9,
   "metadata": {},
   "outputs": [],
   "source": [
    "import numpy as np"
   ]
  },
  {
   "cell_type": "code",
   "execution_count": 10,
   "metadata": {},
   "outputs": [
    {
     "data": {
      "text/plain": [
       "list"
      ]
     },
     "execution_count": 10,
     "metadata": {},
     "output_type": "execute_result"
    }
   ],
   "source": [
    "x = [2.5, 3.2, 5.4, 0.7]\n",
    "type(x)"
   ]
  },
  {
   "cell_type": "code",
   "execution_count": 11,
   "metadata": {},
   "outputs": [
    {
     "data": {
      "text/plain": [
       "array([ 2.5,  3.2,  5.4,  0.7])"
      ]
     },
     "execution_count": 11,
     "metadata": {},
     "output_type": "execute_result"
    }
   ],
   "source": [
    "np_x = np.array(x)\n",
    "np_x"
   ]
  },
  {
   "cell_type": "code",
   "execution_count": 12,
   "metadata": {},
   "outputs": [
    {
     "name": "stdout",
     "output_type": "stream",
     "text": [
      "[2.5, 3.2, 5.4, 0.7, 2.5, 3.2, 5.4, 0.7]\n",
      "[  5.    6.4  10.8   1.4]\n"
     ]
    }
   ],
   "source": [
    "print(x + x)\n",
    "print(np_x + np_x)"
   ]
  },
  {
   "cell_type": "code",
   "execution_count": 13,
   "metadata": {},
   "outputs": [
    {
     "data": {
      "text/plain": [
       "numpy.ndarray"
      ]
     },
     "execution_count": 13,
     "metadata": {},
     "output_type": "execute_result"
    }
   ],
   "source": [
    "type(np_x)"
   ]
  },
  {
   "cell_type": "code",
   "execution_count": 14,
   "metadata": {},
   "outputs": [
    {
     "data": {
      "text/plain": [
       "(4,)"
      ]
     },
     "execution_count": 14,
     "metadata": {},
     "output_type": "execute_result"
    }
   ],
   "source": [
    "np_x.shape"
   ]
  },
  {
   "cell_type": "markdown",
   "metadata": {},
   "source": [
    "### Random walk simulation"
   ]
  },
  {
   "cell_type": "code",
   "execution_count": 15,
   "metadata": {},
   "outputs": [
    {
     "data": {
      "text/plain": [
       "0.9221311907528026"
      ]
     },
     "execution_count": 15,
     "metadata": {},
     "output_type": "execute_result"
    }
   ],
   "source": [
    "# generate a random float between 0 and 1\n",
    "np.random.rand()"
   ]
  },
  {
   "cell_type": "code",
   "execution_count": 16,
   "metadata": {},
   "outputs": [
    {
     "data": {
      "text/plain": [
       "1"
      ]
     },
     "execution_count": 16,
     "metadata": {},
     "output_type": "execute_result"
    }
   ],
   "source": [
    "# generate a random integer 0 or 1\n",
    "np.random.randint(0,2)"
   ]
  },
  {
   "cell_type": "code",
   "execution_count": 17,
   "metadata": {},
   "outputs": [],
   "source": [
    "repeat = 10\n",
    "steps = 100\n",
    "paths = []\n",
    "for i in range(repeat):\n",
    "    path = [0]\n",
    "    for i in range(steps):\n",
    "        toss = np.random.randint(0,2)\n",
    "        if toss == 0:\n",
    "            path.append(path[i-1] - 1)\n",
    "        if toss == 1:\n",
    "            path.append(path[i-1] + 1)\n",
    "    paths.append(path)\n",
    "#print(paths)"
   ]
  },
  {
   "cell_type": "code",
   "execution_count": 18,
   "metadata": {},
   "outputs": [],
   "source": [
    "import matplotlib.pyplot as plt"
   ]
  },
  {
   "cell_type": "code",
   "execution_count": 19,
   "metadata": {},
   "outputs": [
    {
     "data": {
      "image/png": "[encoded data removed]",
      "text/plain": [
       "<matplotlib.figure.Figure at 0x273a917ccf8>"
      ]
     },
     "metadata": {
      "needs_background": "light"
     },
     "output_type": "display_data"
    }
   ],
   "source": [
    "for i in range(10):\n",
    "    plt.plot(paths[i])\n",
    "plt.show()"
   ]
  },
  {
   "cell_type": "markdown",
   "metadata": {},
   "source": [
    "In random walk, the variance of Xi grows with i."
   ]
  },
  {
   "cell_type": "code",
   "execution_count": 20,
   "metadata": {
    "scrolled": true
   },
   "outputs": [
    {
     "data": {
      "image/png": "[encoded data removed]",
      "text/plain": [
       "<matplotlib.figure.Figure at 0x273ab23dc18>"
      ]
     },
     "metadata": {
      "needs_background": "light"
     },
     "output_type": "display_data"
    }
   ],
   "source": [
    "plt.plot(np.transpose(paths))\n",
    "plt.show()"
   ]
  },
  {
   "cell_type": "markdown",
   "metadata": {},
   "source": [
    "### Dictionary"
   ]
  },
  {
   "cell_type": "code",
   "execution_count": 21,
   "metadata": {},
   "outputs": [
    {
     "data": {
      "text/plain": [
       "1.5"
      ]
     },
     "execution_count": 21,
     "metadata": {},
     "output_type": "execute_result"
    }
   ],
   "source": [
    "dict_fruits = {\"apple\": 1.5, \"banana\": 0.98, \"strawberry\": 3.49}\n",
    "dict_fruits[\"apple\"]"
   ]
  },
  {
   "cell_type": "code",
   "execution_count": 22,
   "metadata": {},
   "outputs": [
    {
     "data": {
      "text/plain": [
       "dict_keys(['apple', 'banana', 'strawberry'])"
      ]
     },
     "execution_count": 22,
     "metadata": {},
     "output_type": "execute_result"
    }
   ],
   "source": [
    "dict_fruits.keys()"
   ]
  },
  {
   "cell_type": "code",
   "execution_count": 23,
   "metadata": {},
   "outputs": [
    {
     "data": {
      "text/plain": [
       "True"
      ]
     },
     "execution_count": 23,
     "metadata": {},
     "output_type": "execute_result"
    }
   ],
   "source": [
    "dict_fruits[\"mango\"] = 1.69\n",
    "\"mango\" in dict_fruits"
   ]
  },
  {
   "cell_type": "code",
   "execution_count": 24,
   "metadata": {},
   "outputs": [
    {
     "data": {
      "text/plain": [
       "{'apple': 1.5, 'mango': 1.69, 'strawberry': 3.49}"
      ]
     },
     "execution_count": 24,
     "metadata": {},
     "output_type": "execute_result"
    }
   ],
   "source": [
    "del(dict_fruits[\"banana\"])\n",
    "dict_fruits"
   ]
  },
  {
   "cell_type": "markdown",
   "metadata": {},
   "source": [
    "### List vs Dictionary Summary"
   ]
  },
  {
   "cell_type": "code",
   "execution_count": 25,
   "metadata": {},
   "outputs": [],
   "source": [
    "from IPython.display import HTML, display\n",
    "import tabulate"
   ]
  },
  {
   "cell_type": "code",
   "execution_count": 26,
   "metadata": {},
   "outputs": [
    {
     "data": {
      "text/html": [
       "<table>\n",
       "<thead>\n",
       "<tr><th style=\"text-align: center;\">               List                </th><th style=\"text-align: center;\">         Dictionary          </th></tr>\n",
       "</thead>\n",
       "<tbody>\n",
       "<tr><td style=\"text-align: center;\">   Select, update and remove: []   </td><td style=\"text-align: center;\">Select, update and remove: []</td></tr>\n",
       "<tr><td style=\"text-align: center;\">           Delete: del()           </td><td style=\"text-align: center;\">        Delete: del()        </td></tr>\n",
       "<tr><td style=\"text-align: center;\">    Indexed by range of numbers    </td><td style=\"text-align: center;\">   Indexed by unique keys    </td></tr>\n",
       "<tr><td style=\"text-align: center;\">Collection of values; order matters</td><td style=\"text-align: center;\">Lookup table with unique keys</td></tr>\n",
       "</tbody>\n",
       "</table>"
      ],
      "text/plain": [
       "<IPython.core.display.HTML object>"
      ]
     },
     "metadata": {},
     "output_type": "display_data"
    }
   ],
   "source": [
    "table = [[\"List\", \"Dictionary\"],\n",
    "         [\"Select, update and remove: []\", \"Select, update and remove: []\"],\n",
    "         [\"Delete: del()\", \"Delete: del()\"],\n",
    "         [\"Indexed by range of numbers\", \"Indexed by unique keys\"],\n",
    "         [\"Collection of values; order matters\",\n",
    "          \"Lookup table with unique keys\"]]\n",
    "display(HTML(tabulate.tabulate(table, tablefmt='html', \n",
    "                               headers=\"firstrow\", \n",
    "                               stralign = 'center')), )"
   ]
  },
  {
   "cell_type": "markdown",
   "metadata": {},
   "source": [
    "### Sort dictionaries\n",
    "\n",
    "It is not possible to sort a dictionary, only to get a representation of a dictionary that is sorted. Dictionaries are inherently orderless, but other types, such as lists and tuples, are not. So you need an ordered data type to represent sorted values, which will be a list—probably a list of tuples.\n",
    "\n",
    "Reference: https://stackoverflow.com/questions/613183/how-do-i-sort-a-dictionary-by-value"
   ]
  },
  {
   "cell_type": "markdown",
   "metadata": {},
   "source": [
    "#### Solution 1: operator package"
   ]
  },
  {
   "cell_type": "code",
   "execution_count": 27,
   "metadata": {},
   "outputs": [],
   "source": [
    "import operator"
   ]
  },
  {
   "cell_type": "code",
   "execution_count": 28,
   "metadata": {},
   "outputs": [
    {
     "data": {
      "text/plain": [
       "{'a': 80, 'c': 45, 'f': 32, 'z': 10}"
      ]
     },
     "execution_count": 28,
     "metadata": {},
     "output_type": "execute_result"
    }
   ],
   "source": [
    "mydict = {'c': 45,\n",
    "        'f': 32,\n",
    "        'a': 80,\n",
    "        'z': 10}\n",
    "mydict"
   ]
  },
  {
   "cell_type": "markdown",
   "metadata": {},
   "source": [
    "**Use sorted() to sort by key**\n",
    "\n",
    "Note: Need to indicate reverse=Ture in sorted() while using the code below to sort accendingly."
   ]
  },
  {
   "cell_type": "code",
   "execution_count": 29,
   "metadata": {},
   "outputs": [
    {
     "data": {
      "text/plain": [
       "[('a', 80), ('c', 45), ('f', 32), ('z', 10)]"
      ]
     },
     "execution_count": 29,
     "metadata": {},
     "output_type": "execute_result"
    }
   ],
   "source": [
    "sorted_mydict = sorted(mydict.items(), \n",
    "                       key=operator.itemgetter(1), \n",
    "                       reverse = True)\n",
    "sorted_mydict"
   ]
  },
  {
   "cell_type": "code",
   "execution_count": 30,
   "metadata": {},
   "outputs": [
    {
     "data": {
      "text/plain": [
       "dict_items([('c', 45), ('a', 80), ('z', 10), ('f', 32)])"
      ]
     },
     "execution_count": 30,
     "metadata": {},
     "output_type": "execute_result"
    }
   ],
   "source": [
    "mydict.items()"
   ]
  },
  {
   "cell_type": "markdown",
   "metadata": {},
   "source": [
    "**Use sorted() to sort by value**"
   ]
  },
  {
   "cell_type": "code",
   "execution_count": 31,
   "metadata": {},
   "outputs": [
    {
     "data": {
      "text/plain": [
       "[('a', 80), ('c', 45), ('f', 32), ('z', 10)]"
      ]
     },
     "execution_count": 31,
     "metadata": {},
     "output_type": "execute_result"
    }
   ],
   "source": [
    "sorted_mydict_byvalue = sorted(mydict.items(), key=operator.itemgetter(0))\n",
    "sorted_mydict_byvalue"
   ]
  },
  {
   "cell_type": "markdown",
   "metadata": {},
   "source": [
    "#### Solution 2: anonymous function"
   ]
  },
  {
   "cell_type": "code",
   "execution_count": 32,
   "metadata": {},
   "outputs": [
    {
     "data": {
      "text/plain": [
       "[('a', 80), ('c', 45), ('f', 32), ('z', 10)]"
      ]
     },
     "execution_count": 32,
     "metadata": {},
     "output_type": "execute_result"
    }
   ],
   "source": [
    "sorted(mydict.items(), key=lambda x: x[0])"
   ]
  },
  {
   "cell_type": "code",
   "execution_count": 33,
   "metadata": {},
   "outputs": [
    {
     "data": {
      "text/plain": [
       "[('z', 10), ('f', 32), ('c', 45), ('a', 80)]"
      ]
     },
     "execution_count": 33,
     "metadata": {},
     "output_type": "execute_result"
    }
   ],
   "source": [
    "sorted(mydict.items(), key=lambda x: x[1])"
   ]
  },
  {
   "cell_type": "markdown",
   "metadata": {},
   "source": [
    "### Tuples\n",
    "- Like a list - can contain multiple values\n",
    "- Immutable - can't modiy values!\n",
    "- Use tuples to make functions return multiple values."
   ]
  },
  {
   "cell_type": "code",
   "execution_count": 34,
   "metadata": {},
   "outputs": [
    {
     "name": "stdout",
     "output_type": "stream",
     "text": [
      "2\n"
     ]
    }
   ],
   "source": [
    "# Unpacking tuples\n",
    "nums = (2, 5, 8)\n",
    "a, b, c = nums\n",
    "print(a)"
   ]
  },
  {
   "cell_type": "markdown",
   "metadata": {},
   "source": [
    "## Loop\n",
    "### for loop / enumerate"
   ]
  },
  {
   "cell_type": "code",
   "execution_count": 35,
   "metadata": {},
   "outputs": [
    {
     "name": "stdout",
     "output_type": "stream",
     "text": [
      "index 0: 1.73\n",
      "index 1: 1.68\n",
      "index 2: 1.74\n",
      "index 3: 1.82\n"
     ]
    }
   ],
   "source": [
    "fam = [1.73, 1.68, 1.74, 1.82]\n",
    "for index, height in enumerate(fam):\n",
    "    print(\"index \" + str(index) + \": \" + str(height))"
   ]
  },
  {
   "cell_type": "code",
   "execution_count": 36,
   "metadata": {},
   "outputs": [
    {
     "name": "stdout",
     "output_type": "stream",
     "text": [
      "Help on class enumerate in module builtins:\n",
      "\n",
      "class enumerate(object)\n",
      " |  enumerate(iterable[, start]) -> iterator for index, value of iterable\n",
      " |  \n",
      " |  Return an enumerate object.  iterable must be another object that supports\n",
      " |  iteration.  The enumerate object yields pairs containing a count (from\n",
      " |  start, which defaults to zero) and a value yielded by the iterable argument.\n",
      " |  enumerate is useful for obtaining an indexed list:\n",
      " |      (0, seq[0]), (1, seq[1]), (2, seq[2]), ...\n",
      " |  \n",
      " |  Methods defined here:\n",
      " |  \n",
      " |  __getattribute__(self, name, /)\n",
      " |      Return getattr(self, name).\n",
      " |  \n",
      " |  __iter__(self, /)\n",
      " |      Implement iter(self).\n",
      " |  \n",
      " |  __new__(*args, **kwargs) from builtins.type\n",
      " |      Create and return a new object.  See help(type) for accurate signature.\n",
      " |  \n",
      " |  __next__(self, /)\n",
      " |      Implement next(self).\n",
      " |  \n",
      " |  __reduce__(...)\n",
      " |      Return state information for pickling.\n",
      "\n"
     ]
    }
   ],
   "source": [
    "help(enumerate)"
   ]
  },
  {
   "cell_type": "markdown",
   "metadata": {},
   "source": [
    "**items()**"
   ]
  },
  {
   "cell_type": "code",
   "execution_count": 37,
   "metadata": {},
   "outputs": [
    {
     "name": "stdout",
     "output_type": "stream",
     "text": [
      "apple: 1.5\n",
      "mango: 1.69\n",
      "strawberry: 3.49\n"
     ]
    }
   ],
   "source": [
    "# Use items() to loop dictionary\n",
    "for fruit, price in dict_fruits.items():\n",
    "    print(fruit + \": \" + str(price))"
   ]
  },
  {
   "cell_type": "markdown",
   "metadata": {},
   "source": [
    "**np.nditer()**"
   ]
  },
  {
   "cell_type": "code",
   "execution_count": 38,
   "metadata": {},
   "outputs": [
    {
     "name": "stdout",
     "output_type": "stream",
     "text": [
      "[15 23 18 40]\n",
      "[ 3  5  8 12]\n"
     ]
    }
   ],
   "source": [
    "# For 2D arrays, for loop prints out two arrays one by one. \n",
    "# To print out the values in each array one by one, use np.nditer().\n",
    "np_xy = np.array([[15, 23, 18, 40],\n",
    "                  [3, 5, 8, 12]])\n",
    "for val in np_xy:\n",
    "    print(val)"
   ]
  },
  {
   "cell_type": "code",
   "execution_count": 39,
   "metadata": {},
   "outputs": [
    {
     "name": "stdout",
     "output_type": "stream",
     "text": [
      "15\n",
      "23\n",
      "18\n",
      "40\n",
      "3\n",
      "5\n",
      "8\n",
      "12\n"
     ]
    }
   ],
   "source": [
    "for val in np.nditer(np_xy):\n",
    "    print(val)"
   ]
  },
  {
   "cell_type": "markdown",
   "metadata": {},
   "source": [
    "### List Comprehension"
   ]
  },
  {
   "cell_type": "code",
   "execution_count": 40,
   "metadata": {},
   "outputs": [
    {
     "data": {
      "text/plain": [
       "[9.6, 4.0, 6.4, 31.2, 16.0]"
      ]
     },
     "execution_count": 40,
     "metadata": {},
     "output_type": "execute_result"
    }
   ],
   "source": [
    "nums = [12, 5, 8, 39, 20]\n",
    "[round(num * 0.8, 2) for num in nums]"
   ]
  },
  {
   "cell_type": "code",
   "execution_count": 41,
   "metadata": {},
   "outputs": [
    {
     "name": "stdout",
     "output_type": "stream",
     "text": [
      "[0, 1, 2, 3, 4]\n",
      "[0, 1, 2, 3, 4]\n",
      "[0, 1, 2, 3, 4]\n",
      "[0, 1, 2, 3, 4]\n",
      "[0, 1, 2, 3, 4]\n"
     ]
    }
   ],
   "source": [
    "# Create a 5 x 5 matrix using a list of lists: matrix\n",
    "matrix = [[i for i in range(5)] for i in range(5)]\n",
    "for row in matrix:\n",
    "    print(row)"
   ]
  },
  {
   "cell_type": "code",
   "execution_count": 42,
   "metadata": {},
   "outputs": [
    {
     "data": {
      "text/plain": [
       "[12, 15, 18, 39, 20]"
      ]
     },
     "execution_count": 42,
     "metadata": {},
     "output_type": "execute_result"
    }
   ],
   "source": [
    "# Conditionals in comprehensions\n",
    "[num + 10 if num <10 else num for num in nums]"
   ]
  },
  {
   "cell_type": "code",
   "execution_count": 43,
   "metadata": {},
   "outputs": [
    {
     "data": {
      "text/plain": [
       "[10, 16]"
      ]
     },
     "execution_count": 43,
     "metadata": {},
     "output_type": "execute_result"
    }
   ],
   "source": [
    "# Conditionals on the iterable\n",
    "[num * 2 for num in nums if num < 10]"
   ]
  },
  {
   "cell_type": "markdown",
   "metadata": {},
   "source": [
    "### Generator\n",
    "Lazy evaluation – the value of the evaluation is delayed until the value is needed. This would help when dealing with extremely large sequences since you don’t want to store the entire list in the memory."
   ]
  },
  {
   "cell_type": "code",
   "execution_count": 44,
   "metadata": {},
   "outputs": [
    {
     "data": {
      "text/plain": [
       "[0, 2, 4, 6, 8, 10, 12, 14, 16, 18]"
      ]
     },
     "execution_count": 44,
     "metadata": {},
     "output_type": "execute_result"
    }
   ],
   "source": [
    "# List comprehension\n",
    "[2 * num for num in range(10)]"
   ]
  },
  {
   "cell_type": "code",
   "execution_count": 45,
   "metadata": {},
   "outputs": [
    {
     "data": {
      "text/plain": [
       "<generator object <genexpr> at 0x000002739A448AF0>"
      ]
     },
     "execution_count": 45,
     "metadata": {},
     "output_type": "execute_result"
    }
   ],
   "source": [
    "# Use () instead of []\n",
    "(2 * num for num in range(10))"
   ]
  },
  {
   "cell_type": "code",
   "execution_count": 46,
   "metadata": {},
   "outputs": [
    {
     "name": "stdout",
     "output_type": "stream",
     "text": [
      "0\n",
      "2\n"
     ]
    }
   ],
   "source": [
    "# print values for generators\n",
    "result = (2 * num for num in range(10))\n",
    "print(next(result))\n",
    "print(next(result))"
   ]
  },
  {
   "cell_type": "code",
   "execution_count": 47,
   "metadata": {},
   "outputs": [
    {
     "name": "stdout",
     "output_type": "stream",
     "text": [
      "[4, 6, 8, 10, 12, 14, 16, 18]\n"
     ]
    }
   ],
   "source": [
    "print(list(result))"
   ]
  },
  {
   "cell_type": "markdown",
   "metadata": {},
   "source": [
    "Use yield to create generator"
   ]
  },
  {
   "cell_type": "code",
   "execution_count": 48,
   "metadata": {},
   "outputs": [
    {
     "data": {
      "text/plain": [
       "<generator object <genexpr> at 0x00000273AC2E8308>"
      ]
     },
     "execution_count": 48,
     "metadata": {},
     "output_type": "execute_result"
    }
   ],
   "source": [
    "g1 = (num for num in range(10))\n",
    "g1"
   ]
  },
  {
   "cell_type": "code",
   "execution_count": 49,
   "metadata": {},
   "outputs": [],
   "source": [
    "# use yield to return generator\n",
    "def gen_series(n):\n",
    "    i = 0\n",
    "    while i < n:\n",
    "        yield i\n",
    "        i += 1    "
   ]
  },
  {
   "cell_type": "code",
   "execution_count": 50,
   "metadata": {},
   "outputs": [
    {
     "data": {
      "text/plain": [
       "<generator object gen_series at 0x00000273AC2CEEB8>"
      ]
     },
     "execution_count": 50,
     "metadata": {},
     "output_type": "execute_result"
    }
   ],
   "source": [
    "g2 = gen_series(10)\n",
    "g2"
   ]
  },
  {
   "cell_type": "code",
   "execution_count": 51,
   "metadata": {},
   "outputs": [
    {
     "data": {
      "text/plain": [
       "True"
      ]
     },
     "execution_count": 51,
     "metadata": {},
     "output_type": "execute_result"
    }
   ],
   "source": [
    "list(g1) == list(g2)"
   ]
  },
  {
   "cell_type": "markdown",
   "metadata": {},
   "source": [
    "### Generator vs. List comprehensions\n",
    "A generator for large sequences could be easily created because it does not yet create the entire list. Anything we can do on a list comprehension can also be done on a generator expression. However, generator could be more efficient to process large iterators. Remember to convert a generator to a list when printing it out."
   ]
  },
  {
   "cell_type": "code",
   "execution_count": 52,
   "metadata": {},
   "outputs": [
    {
     "name": "stdout",
     "output_type": "stream",
     "text": [
      "<generator object <genexpr> at 0x00000273A91D2CA8>\n",
      "[0, 3, 6, 9, 12, 15, 18, 21, 24, 27]\n"
     ]
    }
   ],
   "source": [
    "g3 = (num * 3 for num in range(10))\n",
    "print(g3)\n",
    "print(list(g3))"
   ]
  },
  {
   "cell_type": "markdown",
   "metadata": {},
   "source": [
    "## Useful Packages and Functions\n",
    "### filter()\n",
    "The result of filter() needs to be converted to a list. Otherwise, it is just a filter object."
   ]
  },
  {
   "cell_type": "code",
   "execution_count": 53,
   "metadata": {},
   "outputs": [
    {
     "name": "stdout",
     "output_type": "stream",
     "text": [
      "<filter object at 0x00000273AC2EFA90>\n",
      "['Targaryen', 'Lannister', 'Baratheon']\n"
     ]
    }
   ],
   "source": [
    "houses = ['Targaryen', 'Stark', 'Lannister', 'Greyjoy', \n",
    "          'Arryn', 'Baratheon', 'Tully', 'Tyrell', 'Martell']\n",
    "result = filter(lambda x: len(x) > 7, houses)\n",
    "print(result)\n",
    "print(list(result))"
   ]
  },
  {
   "cell_type": "markdown",
   "metadata": {},
   "source": [
    "### enumerate(), zip(), and unpack()"
   ]
  },
  {
   "cell_type": "code",
   "execution_count": 54,
   "metadata": {},
   "outputs": [
    {
     "name": "stdout",
     "output_type": "stream",
     "text": [
      "<class 'enumerate'>\n"
     ]
    }
   ],
   "source": [
    "house = enumerate(houses)\n",
    "print(type(house))"
   ]
  },
  {
   "cell_type": "code",
   "execution_count": 55,
   "metadata": {},
   "outputs": [
    {
     "name": "stdout",
     "output_type": "stream",
     "text": [
      "[(0, 'Targaryen'), (1, 'Stark'), (2, 'Lannister'), (3, 'Greyjoy'), (4, 'Arryn'), (5, 'Baratheon'), (6, 'Tully'), (7, 'Tyrell'), (8, 'Martell')]\n"
     ]
    }
   ],
   "source": [
    "print(list(house))"
   ]
  },
  {
   "cell_type": "code",
   "execution_count": 56,
   "metadata": {},
   "outputs": [
    {
     "name": "stdout",
     "output_type": "stream",
     "text": [
      "<class 'zip'>\n",
      "[('Targaryen', 'Dragon'), ('Stark', 'Direwolf'), ('Lannister', 'Lion'), ('Greyjoy', 'Kraken'), ('Arryn', 'Falcon'), ('Baratheon', 'Stag'), ('Tully', 'Trout'), ('Tyrell', 'Rose'), ('Martell', 'Sunspear')]\n"
     ]
    }
   ],
   "source": [
    "sigils = ['Dragon', 'Direwolf', 'Lion', 'Kraken', \n",
    "          'Falcon', 'Stag', 'Trout', 'Rose', 'Sunspear']\n",
    "z = zip(houses, sigils)\n",
    "print(type(z))\n",
    "print(list(z))"
   ]
  },
  {
   "cell_type": "code",
   "execution_count": 57,
   "metadata": {},
   "outputs": [
    {
     "name": "stdout",
     "output_type": "stream",
     "text": [
      "Targaryen Dragon\n",
      "Stark Direwolf\n",
      "Lannister Lion\n",
      "Greyjoy Kraken\n",
      "Arryn Falcon\n",
      "Baratheon Stag\n",
      "Tully Trout\n",
      "Tyrell Rose\n",
      "Martell Sunspear\n"
     ]
    }
   ],
   "source": [
    "z = zip(houses, sigils)\n",
    "for house, sigil in z:\n",
    "    print(house, sigil)"
   ]
  },
  {
   "cell_type": "code",
   "execution_count": 58,
   "metadata": {},
   "outputs": [
    {
     "name": "stdout",
     "output_type": "stream",
     "text": [
      "('Targaryen', 'Dragon') ('Stark', 'Direwolf') ('Lannister', 'Lion') ('Greyjoy', 'Kraken') ('Arryn', 'Falcon') ('Baratheon', 'Stag') ('Tully', 'Trout') ('Tyrell', 'Rose') ('Martell', 'Sunspear')\n"
     ]
    }
   ],
   "source": [
    "z = zip(houses, sigils)\n",
    "print(*z)"
   ]
  },
  {
   "cell_type": "code",
   "execution_count": 59,
   "metadata": {},
   "outputs": [
    {
     "name": "stdout",
     "output_type": "stream",
     "text": [
      "('Targaryen', 'Stark', 'Lannister', 'Greyjoy', 'Arryn', 'Baratheon', 'Tully', 'Tyrell', 'Martell')\n",
      "('Dragon', 'Direwolf', 'Lion', 'Kraken', 'Falcon', 'Stag', 'Trout', 'Rose', 'Sunspear')\n"
     ]
    }
   ],
   "source": [
    "# Using * and zip to 'unzip'\n",
    "z = zip(houses, sigils)\n",
    "result1, result2 = zip(*z)\n",
    "print(result1)\n",
    "print(result2)"
   ]
  },
  {
   "cell_type": "markdown",
   "metadata": {},
   "source": [
    "### User-defined Functions\n",
    "Docstrings describe what your function does and serve as documentation for your function. It's placed in the immediate line after the function heder and in between triple double quotes \"\"\"."
   ]
  },
  {
   "cell_type": "code",
   "execution_count": 60,
   "metadata": {},
   "outputs": [],
   "source": [
    "def square(value):\n",
    "    \"\"\"Return the square of a value.\"\"\"\n",
    "    new_value = value ** 2\n",
    "    return new_value"
   ]
  },
  {
   "cell_type": "markdown",
   "metadata": {},
   "source": [
    "### Name an anonymous function"
   ]
  },
  {
   "cell_type": "code",
   "execution_count": 61,
   "metadata": {
    "scrolled": true
   },
   "outputs": [
    {
     "data": {
      "text/plain": [
       "'heyheyheyheyhey'"
      ]
     },
     "execution_count": 61,
     "metadata": {},
     "output_type": "execute_result"
    }
   ],
   "source": [
    "echo_word = (lambda word, echo: word * echo)\n",
    "echo_word('hey', 5)"
   ]
  },
  {
   "cell_type": "markdown",
   "metadata": {},
   "source": [
    "### Python's built-in scope"
   ]
  },
  {
   "cell_type": "code",
   "execution_count": 62,
   "metadata": {
    "scrolled": true
   },
   "outputs": [
    {
     "data": {
      "text/plain": [
       "['ArithmeticError',\n",
       " 'AssertionError',\n",
       " 'AttributeError',\n",
       " 'BaseException',\n",
       " 'BlockingIOError',\n",
       " 'BrokenPipeError',\n",
       " 'BufferError',\n",
       " 'BytesWarning',\n",
       " 'ChildProcessError',\n",
       " 'ConnectionAbortedError']"
      ]
     },
     "execution_count": 62,
     "metadata": {},
     "output_type": "execute_result"
    }
   ],
   "source": [
    "import builtins\n",
    "dir(builtins)[:10]"
   ]
  },
  {
   "cell_type": "markdown",
   "metadata": {},
   "source": [
    "### Explore your current working directory"
   ]
  },
  {
   "cell_type": "code",
   "execution_count": 63,
   "metadata": {},
   "outputs": [
    {
     "data": {
      "text/plain": [
       "['.git',\n",
       " '.ipynb_checkpoints',\n",
       " '1_python-data-analysis-foundation-and-numpy.ipynb',\n",
       " '2_pandas-dataframe.ipynb',\n",
       " 'api-connection.ipynb',\n",
       " 'data',\n",
       " 'data-visualization-matplotlib.ipynb',\n",
       " 'data-visualization-seaborn.ipynb',\n",
       " 'probabilities-and-statistics.ipynb',\n",
       " 'README.md',\n",
       " 'useful-codes.ipynb',\n",
       " 'web-scraping.ipynb']"
      ]
     },
     "execution_count": 63,
     "metadata": {},
     "output_type": "execute_result"
    }
   ],
   "source": [
    "import os\n",
    "wd = os.getcwd()\n",
    "os.listdir(wd)"
   ]
  },
  {
   "cell_type": "markdown",
   "metadata": {
    "collapsed": true
   },
   "source": [
    "### Importing data from flat file"
   ]
  },
  {
   "cell_type": "code",
   "execution_count": 64,
   "metadata": {},
   "outputs": [
    {
     "name": "stdout",
     "output_type": "stream",
     "text": [
      "This is line 1.\n",
      "This is line 2.\n",
      "This is line 3.\n",
      "This is line 4.\n",
      "This is line 5.\n"
     ]
    }
   ],
   "source": [
    "file = open('C:\\\\Users\\\\byron\\\\Documents\\\\GitHub\\\\python-coding\\\\data\\\\test.txt', mode = 'r')\n",
    "print(file.read())\n",
    "file.close()"
   ]
  },
  {
   "cell_type": "code",
   "execution_count": 65,
   "metadata": {},
   "outputs": [
    {
     "name": "stdout",
     "output_type": "stream",
     "text": [
      "This is line 1.\n",
      "\n",
      "This is line 2.\n",
      "\n",
      "This is line 3.\n",
      "\n"
     ]
    }
   ],
   "source": [
    "with open('C:\\\\Users\\\\byron\\\\Documents\\\\GitHub\\\\python-coding\\\\data\\\\test.txt', 'r') as file:\n",
    "    for i in range(3):\n",
    "        print(file.readline())"
   ]
  },
  {
   "cell_type": "markdown",
   "metadata": {},
   "source": [
    "### Regular Expression"
   ]
  },
  {
   "cell_type": "code",
   "execution_count": 66,
   "metadata": {},
   "outputs": [],
   "source": [
    "import re\n",
    "pattern = re.compile('\\$\\d*\\.\\d{2}')"
   ]
  },
  {
   "cell_type": "code",
   "execution_count": 67,
   "metadata": {
    "scrolled": true
   },
   "outputs": [
    {
     "name": "stdout",
     "output_type": "stream",
     "text": [
      "<_sre.SRE_Match object; span=(0, 7), match='$420.10'>\n"
     ]
    }
   ],
   "source": [
    "# check 1 object\n",
    "result = pattern.match('$420.10')\n",
    "print(result)"
   ]
  },
  {
   "cell_type": "code",
   "execution_count": 68,
   "metadata": {},
   "outputs": [
    {
     "name": "stdout",
     "output_type": "stream",
     "text": [
      "True\n"
     ]
    }
   ],
   "source": [
    "print(bool(result))"
   ]
  },
  {
   "cell_type": "code",
   "execution_count": 69,
   "metadata": {},
   "outputs": [
    {
     "data": {
      "text/plain": [
       "[True, False, False, False, False]"
      ]
     },
     "execution_count": 69,
     "metadata": {},
     "output_type": "execute_result"
    }
   ],
   "source": [
    "# check multiple objects\n",
    "check_list = ['$20.20', '$100.0', '50.25', 'It is $20.', '0.999']\n",
    "results = [bool(pattern.match(x)) for x in check_list]\n",
    "results"
   ]
  },
  {
   "cell_type": "code",
   "execution_count": 70,
   "metadata": {},
   "outputs": [
    {
     "data": {
      "text/plain": [
       "['10', '1']"
      ]
     },
     "execution_count": 70,
     "metadata": {},
     "output_type": "execute_result"
    }
   ],
   "source": [
    "# Find the numeric values\n",
    "matches = re.findall('\\d+', 'the recipe calls for 10 strawberries and 1 banana')\n",
    "# Note: + returns 1 or more whereas * returns 0 or more\n",
    "matches"
   ]
  },
  {
   "cell_type": "markdown",
   "metadata": {},
   "source": [
    "### Pad leading zeros\n",
    "\n",
    "https://docs.python.org/3.4/library/string.html#format-string-syntax"
   ]
  },
  {
   "cell_type": "code",
   "execution_count": 71,
   "metadata": {},
   "outputs": [
    {
     "data": {
      "text/plain": [
       "'Testing: 55'"
      ]
     },
     "execution_count": 71,
     "metadata": {},
     "output_type": "execute_result"
    }
   ],
   "source": [
    "# print and edit variables\n",
    "x = 'Testing'\n",
    "y = 55\n",
    "'{}: {}'.format(x, y)"
   ]
  },
  {
   "cell_type": "code",
   "execution_count": 72,
   "metadata": {},
   "outputs": [
    {
     "data": {
      "text/plain": [
       "'0012'"
      ]
     },
     "execution_count": 72,
     "metadata": {},
     "output_type": "execute_result"
    }
   ],
   "source": [
    "# Add 0s to 12\n",
    "'{:0>4}'.format(12)"
   ]
  },
  {
   "cell_type": "code",
   "execution_count": 73,
   "metadata": {},
   "outputs": [
    {
     "data": {
      "text/plain": [
       "'00012'"
      ]
     },
     "execution_count": 73,
     "metadata": {},
     "output_type": "execute_result"
    }
   ],
   "source": [
    "'{:0>5}'.format(12)"
   ]
  }
 ],
 "metadata": {
  "kernelspec": {
   "display_name": "Python 3",
   "language": "python",
   "name": "python3"
  },
  "language_info": {
   "codemirror_mode": {
    "name": "ipython",
    "version": 3
   },
   "file_extension": ".py",
   "mimetype": "text/x-python",
   "name": "python",
   "nbconvert_exporter": "python",
   "pygments_lexer": "ipython3",
   "version": "3.5.2"
  }
 },
 "nbformat": 4,
 "nbformat_minor": 2
}
