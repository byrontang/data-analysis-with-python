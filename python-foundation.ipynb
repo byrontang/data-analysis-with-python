{
 "cells": [
  {
   "cell_type": "markdown",
   "metadata": {},
   "source": [
    "### List Manipulation"
   ]
  },
  {
   "cell_type": "code",
   "execution_count": 1,
   "metadata": {},
   "outputs": [
    {
     "data": {
      "text/plain": [
       "['apple', 1.5, 'banana', 0.98, 'strawberry', 3.49]"
      ]
     },
     "execution_count": 1,
     "metadata": {},
     "output_type": "execute_result"
    }
   ],
   "source": [
    "fruits = [\"apple\", 1.5, \"banana\", 0.98, \"strawberry\", 3.49]\n",
    "fruits"
   ]
  },
  {
   "cell_type": "code",
   "execution_count": 2,
   "metadata": {},
   "outputs": [
    {
     "data": {
      "text/plain": [
       "['apple', 1.5, 'banana', 0.98, 'strawberry', 3.49, 'mango', 1.69]"
      ]
     },
     "execution_count": 2,
     "metadata": {},
     "output_type": "execute_result"
    }
   ],
   "source": [
    "# Extend the list\n",
    "fruits = fruits + [\"mango\", 1.69]\n",
    "fruits"
   ]
  },
  {
   "cell_type": "code",
   "execution_count": 3,
   "metadata": {},
   "outputs": [
    {
     "data": {
      "text/plain": [
       "['banana', 0.98, 'strawberry', 3.49, 'mango', 1.69]"
      ]
     },
     "execution_count": 3,
     "metadata": {},
     "output_type": "execute_result"
    }
   ],
   "source": [
    "# Delete items from the list\n",
    "del(fruits[0:2])\n",
    "fruits"
   ]
  },
  {
   "cell_type": "code",
   "execution_count": 4,
   "metadata": {},
   "outputs": [
    {
     "name": "stdout",
     "output_type": "stream",
     "text": [
      "Make smoothies:  ['strawberry', 3.49, 'mango', 1.69]\n",
      "Buy fruits:  ['strawberry', 3.49, 'mango', 1.69]\n"
     ]
    }
   ],
   "source": [
    "# When you copy x to y, you’re copying the reference, not the value itself.\n",
    "smoothies = fruits\n",
    "del(smoothies[0:2])\n",
    "print(\"Make smoothies: \", smoothies)\n",
    "print(\"Buy fruits: \", fruits)"
   ]
  },
  {
   "cell_type": "code",
   "execution_count": 5,
   "metadata": {},
   "outputs": [
    {
     "name": "stdout",
     "output_type": "stream",
     "text": [
      "['mango', 1.69] ['strawberry', 3.49, 'mango', 1.69]\n"
     ]
    }
   ],
   "source": [
    "# To create a new list, use:\n",
    "smoothies_new = list(smoothies)\n",
    "del(smoothies_new[0:2])\n",
    "print(smoothies_new, smoothies)"
   ]
  },
  {
   "cell_type": "code",
   "execution_count": 6,
   "metadata": {},
   "outputs": [
    {
     "name": "stdout",
     "output_type": "stream",
     "text": [
      "['mango', 1.69] ['strawberry', 3.49, 'mango', 1.69]\n"
     ]
    }
   ],
   "source": [
    "# Or use:\n",
    "fruits_new = fruits[:]\n",
    "del(fruits_new[0:2])\n",
    "print(fruits_new, fruits)"
   ]
  },
  {
   "cell_type": "code",
   "execution_count": 7,
   "metadata": {},
   "outputs": [
    {
     "name": "stdout",
     "output_type": "stream",
     "text": [
      "2\n",
      "1\n"
     ]
    }
   ],
   "source": [
    "# List Methods\n",
    "print(fruits.index(\"mango\"))\n",
    "print(fruits.count(\"mango\"))"
   ]
  },
  {
   "cell_type": "markdown",
   "metadata": {},
   "source": [
    "### Numpy"
   ]
  },
  {
   "cell_type": "code",
   "execution_count": 8,
   "metadata": {},
   "outputs": [],
   "source": [
    "import numpy as np"
   ]
  },
  {
   "cell_type": "code",
   "execution_count": 9,
   "metadata": {},
   "outputs": [
    {
     "data": {
      "text/plain": [
       "list"
      ]
     },
     "execution_count": 9,
     "metadata": {},
     "output_type": "execute_result"
    }
   ],
   "source": [
    "x = [2.5, 3.2, 5.4, 0.7]\n",
    "type(x)"
   ]
  },
  {
   "cell_type": "code",
   "execution_count": 10,
   "metadata": {},
   "outputs": [
    {
     "data": {
      "text/plain": [
       "array([ 2.5,  3.2,  5.4,  0.7])"
      ]
     },
     "execution_count": 10,
     "metadata": {},
     "output_type": "execute_result"
    }
   ],
   "source": [
    "np_x = np.array(x)\n",
    "np_x"
   ]
  },
  {
   "cell_type": "code",
   "execution_count": 11,
   "metadata": {},
   "outputs": [
    {
     "name": "stdout",
     "output_type": "stream",
     "text": [
      "[2.5, 3.2, 5.4, 0.7, 2.5, 3.2, 5.4, 0.7]\n",
      "[  5.    6.4  10.8   1.4]\n"
     ]
    }
   ],
   "source": [
    "print(x + x)\n",
    "print(np_x + np_x)"
   ]
  },
  {
   "cell_type": "code",
   "execution_count": 12,
   "metadata": {},
   "outputs": [
    {
     "data": {
      "text/plain": [
       "numpy.ndarray"
      ]
     },
     "execution_count": 12,
     "metadata": {},
     "output_type": "execute_result"
    }
   ],
   "source": [
    "type(np_x)"
   ]
  },
  {
   "cell_type": "code",
   "execution_count": 13,
   "metadata": {},
   "outputs": [
    {
     "data": {
      "text/plain": [
       "(4,)"
      ]
     },
     "execution_count": 13,
     "metadata": {},
     "output_type": "execute_result"
    }
   ],
   "source": [
    "np_x.shape"
   ]
  },
  {
   "cell_type": "markdown",
   "metadata": {},
   "source": [
    "### Dictionary"
   ]
  },
  {
   "cell_type": "code",
   "execution_count": 14,
   "metadata": {},
   "outputs": [
    {
     "data": {
      "text/plain": [
       "1.5"
      ]
     },
     "execution_count": 14,
     "metadata": {},
     "output_type": "execute_result"
    }
   ],
   "source": [
    "dict_fruits = {\"apple\": 1.5, \"banana\": 0.98, \"strawberry\": 3.49}\n",
    "dict_fruits[\"apple\"]"
   ]
  },
  {
   "cell_type": "code",
   "execution_count": 15,
   "metadata": {},
   "outputs": [
    {
     "data": {
      "text/plain": [
       "dict_keys(['banana', 'apple', 'strawberry'])"
      ]
     },
     "execution_count": 15,
     "metadata": {},
     "output_type": "execute_result"
    }
   ],
   "source": [
    "dict_fruits.keys()"
   ]
  },
  {
   "cell_type": "code",
   "execution_count": 16,
   "metadata": {},
   "outputs": [
    {
     "data": {
      "text/plain": [
       "True"
      ]
     },
     "execution_count": 16,
     "metadata": {},
     "output_type": "execute_result"
    }
   ],
   "source": [
    "dict_fruits[\"mango\"] = 1.69\n",
    "\"mango\" in dict_fruits"
   ]
  },
  {
   "cell_type": "code",
   "execution_count": 17,
   "metadata": {},
   "outputs": [
    {
     "data": {
      "text/plain": [
       "{'apple': 1.5, 'mango': 1.69, 'strawberry': 3.49}"
      ]
     },
     "execution_count": 17,
     "metadata": {},
     "output_type": "execute_result"
    }
   ],
   "source": [
    "del(dict_fruits[\"banana\"])\n",
    "dict_fruits"
   ]
  },
  {
   "cell_type": "markdown",
   "metadata": {},
   "source": [
    "### List vs Dictionary Summary"
   ]
  },
  {
   "cell_type": "code",
   "execution_count": 18,
   "metadata": {},
   "outputs": [],
   "source": [
    "from IPython.display import HTML, display\n",
    "import tabulate"
   ]
  },
  {
   "cell_type": "code",
   "execution_count": 19,
   "metadata": {},
   "outputs": [
    {
     "data": {
      "text/html": [
       "<table>\n",
       "<thead>\n",
       "<tr><th style=\"text-align: center;\">               List                </th><th style=\"text-align: center;\">         Dictionary          </th></tr>\n",
       "</thead>\n",
       "<tbody>\n",
       "<tr><td style=\"text-align: center;\">   Select, update and remove: []   </td><td style=\"text-align: center;\">Select, update and remove: []</td></tr>\n",
       "<tr><td style=\"text-align: center;\">           Delete: del()           </td><td style=\"text-align: center;\">        Delete: del()        </td></tr>\n",
       "<tr><td style=\"text-align: center;\">    Indexed by range of numbers    </td><td style=\"text-align: center;\">   Indexed by unique keys    </td></tr>\n",
       "<tr><td style=\"text-align: center;\">Collection of values; order matters</td><td style=\"text-align: center;\">Lookup table with unique keys</td></tr>\n",
       "</tbody>\n",
       "</table>"
      ],
      "text/plain": [
       "<IPython.core.display.HTML object>"
      ]
     },
     "metadata": {},
     "output_type": "display_data"
    }
   ],
   "source": [
    "table = [[\"List\", \"Dictionary\"],\n",
    "         [\"Select, update and remove: []\", \"Select, update and remove: []\"],\n",
    "         [\"Delete: del()\", \"Delete: del()\"],\n",
    "         [\"Indexed by range of numbers\", \"Indexed by unique keys\"],\n",
    "         [\"Collection of values; order matters\",\n",
    "          \"Lookup table with unique keys\"]]\n",
    "display(HTML(tabulate.tabulate(table, tablefmt='html', \n",
    "                               headers=\"firstrow\", \n",
    "                               stralign = 'center')), )"
   ]
  },
  {
   "cell_type": "markdown",
   "metadata": {},
   "source": [
    "### Sort dictionaries\n",
    "\n",
    "It is not possible to sort a dictionary, only to get a representation of a dictionary that is sorted. Dictionaries are inherently orderless, but other types, such as lists and tuples, are not. So you need an ordered data type to represent sorted values, which will be a list—probably a list of tuples.\n",
    "\n",
    "Reference: https://stackoverflow.com/questions/613183/how-do-i-sort-a-dictionary-by-value"
   ]
  },
  {
   "cell_type": "markdown",
   "metadata": {},
   "source": [
    "#### Solution 1: operator package"
   ]
  },
  {
   "cell_type": "code",
   "execution_count": 20,
   "metadata": {},
   "outputs": [],
   "source": [
    "import operator"
   ]
  },
  {
   "cell_type": "code",
   "execution_count": 21,
   "metadata": {},
   "outputs": [
    {
     "data": {
      "text/plain": [
       "{'a': 80, 'c': 45, 'f': 32, 'z': 10}"
      ]
     },
     "execution_count": 21,
     "metadata": {},
     "output_type": "execute_result"
    }
   ],
   "source": [
    "mydict = {'c': 45,\n",
    "        'f': 32,\n",
    "        'a': 80,\n",
    "        'z': 10}\n",
    "mydict"
   ]
  },
  {
   "cell_type": "markdown",
   "metadata": {},
   "source": [
    "**Use sorted() to sort by key**\n",
    "\n",
    "Note: Need to indicate reverse=Ture in sorted() while using the code below to sort accendingly."
   ]
  },
  {
   "cell_type": "code",
   "execution_count": 22,
   "metadata": {},
   "outputs": [
    {
     "data": {
      "text/plain": [
       "[('a', 80), ('c', 45), ('f', 32), ('z', 10)]"
      ]
     },
     "execution_count": 22,
     "metadata": {},
     "output_type": "execute_result"
    }
   ],
   "source": [
    "sorted_mydict = sorted(mydict.items(), \n",
    "                       key=operator.itemgetter(1), \n",
    "                       reverse = True)\n",
    "sorted_mydict"
   ]
  },
  {
   "cell_type": "code",
   "execution_count": 23,
   "metadata": {},
   "outputs": [
    {
     "data": {
      "text/plain": [
       "dict_items([('f', 32), ('c', 45), ('z', 10), ('a', 80)])"
      ]
     },
     "execution_count": 23,
     "metadata": {},
     "output_type": "execute_result"
    }
   ],
   "source": [
    "mydict.items()"
   ]
  },
  {
   "cell_type": "markdown",
   "metadata": {},
   "source": [
    "**Use sorted() to sort by value**"
   ]
  },
  {
   "cell_type": "code",
   "execution_count": 24,
   "metadata": {},
   "outputs": [
    {
     "data": {
      "text/plain": [
       "[('a', 80), ('c', 45), ('f', 32), ('z', 10)]"
      ]
     },
     "execution_count": 24,
     "metadata": {},
     "output_type": "execute_result"
    }
   ],
   "source": [
    "sorted_mydict_byvalue = sorted(mydict.items(), key=operator.itemgetter(0))\n",
    "sorted_mydict_byvalue"
   ]
  },
  {
   "cell_type": "markdown",
   "metadata": {},
   "source": [
    "#### Solution 2: anonymous function"
   ]
  },
  {
   "cell_type": "code",
   "execution_count": 25,
   "metadata": {},
   "outputs": [
    {
     "data": {
      "text/plain": [
       "[('a', 80), ('c', 45), ('f', 32), ('z', 10)]"
      ]
     },
     "execution_count": 25,
     "metadata": {},
     "output_type": "execute_result"
    }
   ],
   "source": [
    "sorted(mydict.items(), key=lambda x: x[0])"
   ]
  },
  {
   "cell_type": "code",
   "execution_count": 26,
   "metadata": {},
   "outputs": [
    {
     "data": {
      "text/plain": [
       "[('z', 10), ('f', 32), ('c', 45), ('a', 80)]"
      ]
     },
     "execution_count": 26,
     "metadata": {},
     "output_type": "execute_result"
    }
   ],
   "source": [
    "sorted(mydict.items(), key=lambda x: x[1])"
   ]
  },
  {
   "cell_type": "markdown",
   "metadata": {},
   "source": [
    "### for loop / enumerate"
   ]
  },
  {
   "cell_type": "code",
   "execution_count": 27,
   "metadata": {},
   "outputs": [
    {
     "name": "stdout",
     "output_type": "stream",
     "text": [
      "index 0: 1.73\n",
      "index 1: 1.68\n",
      "index 2: 1.74\n",
      "index 3: 1.82\n"
     ]
    }
   ],
   "source": [
    "fam = [1.73, 1.68, 1.74, 1.82]\n",
    "for index, height in enumerate(fam):\n",
    "    print(\"index \" + str(index) + \": \" + str(height))"
   ]
  },
  {
   "cell_type": "code",
   "execution_count": 28,
   "metadata": {},
   "outputs": [
    {
     "name": "stdout",
     "output_type": "stream",
     "text": [
      "Help on class enumerate in module builtins:\n",
      "\n",
      "class enumerate(object)\n",
      " |  enumerate(iterable[, start]) -> iterator for index, value of iterable\n",
      " |  \n",
      " |  Return an enumerate object.  iterable must be another object that supports\n",
      " |  iteration.  The enumerate object yields pairs containing a count (from\n",
      " |  start, which defaults to zero) and a value yielded by the iterable argument.\n",
      " |  enumerate is useful for obtaining an indexed list:\n",
      " |      (0, seq[0]), (1, seq[1]), (2, seq[2]), ...\n",
      " |  \n",
      " |  Methods defined here:\n",
      " |  \n",
      " |  __getattribute__(self, name, /)\n",
      " |      Return getattr(self, name).\n",
      " |  \n",
      " |  __iter__(self, /)\n",
      " |      Implement iter(self).\n",
      " |  \n",
      " |  __new__(*args, **kwargs) from builtins.type\n",
      " |      Create and return a new object.  See help(type) for accurate signature.\n",
      " |  \n",
      " |  __next__(self, /)\n",
      " |      Implement next(self).\n",
      " |  \n",
      " |  __reduce__(...)\n",
      " |      Return state information for pickling.\n",
      "\n"
     ]
    }
   ],
   "source": [
    "help(enumerate)"
   ]
  },
  {
   "cell_type": "markdown",
   "metadata": {},
   "source": [
    "**items()**"
   ]
  },
  {
   "cell_type": "code",
   "execution_count": 32,
   "metadata": {},
   "outputs": [
    {
     "name": "stdout",
     "output_type": "stream",
     "text": [
      "apple: 1.5\n",
      "strawberry: 3.49\n",
      "mango: 1.69\n"
     ]
    }
   ],
   "source": [
    "# Use items() to loop dictionary\n",
    "for fruit, price in dict_fruits.items():\n",
    "    print(fruit + \": \" + str(price))"
   ]
  },
  {
   "cell_type": "markdown",
   "metadata": {},
   "source": [
    "**np.nditer()**"
   ]
  },
  {
   "cell_type": "code",
   "execution_count": 37,
   "metadata": {},
   "outputs": [
    {
     "name": "stdout",
     "output_type": "stream",
     "text": [
      "[15 23 18 40]\n",
      "[ 3  5  8 12]\n"
     ]
    }
   ],
   "source": [
    "# For 2D arrays, for loop prints out two arrays one by one. \n",
    "# To print out the values in each array one by one, use np.nditer().\n",
    "np_xy = np.array([[15, 23, 18, 40],\n",
    "                  [3, 5, 8, 12]])\n",
    "for val in np_xy:\n",
    "    print(val)"
   ]
  },
  {
   "cell_type": "code",
   "execution_count": 38,
   "metadata": {},
   "outputs": [
    {
     "name": "stdout",
     "output_type": "stream",
     "text": [
      "15\n",
      "23\n",
      "18\n",
      "40\n",
      "3\n",
      "5\n",
      "8\n",
      "12\n"
     ]
    }
   ],
   "source": [
    "for val in np.nditer(np_xy):\n",
    "    print(val)"
   ]
  },
  {
   "cell_type": "markdown",
   "metadata": {},
   "source": [
    "### User-defined Functions\n",
    "Docstrings describe what your function does and serve as documentation for your function. It's placed in the immediate line after the function heder and in between triple double quotes \"\"\"."
   ]
  },
  {
   "cell_type": "code",
   "execution_count": null,
   "metadata": {},
   "outputs": [],
   "source": [
    "def square(value):\n",
    "    \"\"\"Return the square of a value.\"\"\"\n",
    "    new_value = value ** 2\n",
    "    return new value"
   ]
  },
  {
   "cell_type": "markdown",
   "metadata": {},
   "source": [
    "### Tuples\n",
    "- Like a list - can contain multiple values\n",
    "- Immutable - can't modiy values!\n",
    "- Use tuples to make functions return multiple values."
   ]
  },
  {
   "cell_type": "code",
   "execution_count": 40,
   "metadata": {},
   "outputs": [
    {
     "name": "stdout",
     "output_type": "stream",
     "text": [
      "2\n"
     ]
    }
   ],
   "source": [
    "# Unpacking tuples\n",
    "nums = (2, 5, 8)\n",
    "a, b, c = nums\n",
    "print(a)"
   ]
  },
  {
   "cell_type": "markdown",
   "metadata": {},
   "source": [
    "### Python's built-in scope"
   ]
  },
  {
   "cell_type": "code",
   "execution_count": 42,
   "metadata": {},
   "outputs": [
    {
     "data": {
      "text/plain": [
       "['ArithmeticError',\n",
       " 'AssertionError',\n",
       " 'AttributeError',\n",
       " 'BaseException',\n",
       " 'BlockingIOError',\n",
       " 'BrokenPipeError',\n",
       " 'BufferError',\n",
       " 'BytesWarning',\n",
       " 'ChildProcessError',\n",
       " 'ConnectionAbortedError']"
      ]
     },
     "execution_count": 42,
     "metadata": {},
     "output_type": "execute_result"
    }
   ],
   "source": [
    "import builtins\n",
    "dir(builtins)[:10]"
   ]
  },
  {
   "cell_type": "markdown",
   "metadata": {},
   "source": [
    "### Name an anonymous function"
   ]
  },
  {
   "cell_type": "code",
   "execution_count": 44,
   "metadata": {},
   "outputs": [
    {
     "data": {
      "text/plain": [
       "'heyheyheyheyhey'"
      ]
     },
     "execution_count": 44,
     "metadata": {},
     "output_type": "execute_result"
    }
   ],
   "source": [
    "echo_word = (lambda word, echo: word * echo)\n",
    "echo_word('hey', 5)"
   ]
  },
  {
   "cell_type": "markdown",
   "metadata": {},
   "source": [
    "### filter()\n",
    "The result of filter() needs to be converted to a list. Otherwise, it is just a filter object."
   ]
  },
  {
   "cell_type": "code",
   "execution_count": 45,
   "metadata": {},
   "outputs": [
    {
     "name": "stdout",
     "output_type": "stream",
     "text": [
      "<filter object at 0x0000020FB47852E8>\n",
      "['Targaryen', 'Lannister', 'Baratheon']\n"
     ]
    }
   ],
   "source": [
    "houses = ['Targaryen', 'Stark', 'Lannister', 'Greyjoy', \n",
    "          'Arryn', 'Baratheon', 'Tully', 'Tyrell', 'Martell']\n",
    "result = filter(lambda x: len(x) > 7, houses)\n",
    "print(result)\n",
    "print(list(result))"
   ]
  },
  {
   "cell_type": "markdown",
   "metadata": {},
   "source": [
    "### enumerate(), zip(), and unpack()"
   ]
  },
  {
   "cell_type": "code",
   "execution_count": 46,
   "metadata": {},
   "outputs": [
    {
     "name": "stdout",
     "output_type": "stream",
     "text": [
      "<class 'enumerate'>\n"
     ]
    }
   ],
   "source": [
    "house = enumerate(houses)\n",
    "print(type(house))"
   ]
  },
  {
   "cell_type": "code",
   "execution_count": 47,
   "metadata": {},
   "outputs": [
    {
     "name": "stdout",
     "output_type": "stream",
     "text": [
      "[(0, 'Targaryen'), (1, 'Stark'), (2, 'Lannister'), (3, 'Greyjoy'), (4, 'Arryn'), (5, 'Baratheon'), (6, 'Tully'), (7, 'Tyrell'), (8, 'Martell')]\n"
     ]
    }
   ],
   "source": [
    "print(list(house))"
   ]
  },
  {
   "cell_type": "code",
   "execution_count": 49,
   "metadata": {},
   "outputs": [
    {
     "name": "stdout",
     "output_type": "stream",
     "text": [
      "<class 'zip'>\n",
      "[('Targaryen', 'Dragon'), ('Stark', 'Direwolf'), ('Lannister', 'Lion'), ('Greyjoy', 'Kraken'), ('Arryn', 'Falcon'), ('Baratheon', 'Stag'), ('Tully', 'Trout'), ('Tyrell', 'Rose'), ('Martell', 'Sunspear')]\n"
     ]
    }
   ],
   "source": [
    "sigils = ['Dragon', 'Direwolf', 'Lion', 'Kraken', \n",
    "          'Falcon', 'Stag', 'Trout', 'Rose', 'Sunspear']\n",
    "z = zip(houses, sigils)\n",
    "print(type(z))\n",
    "print(list(z))"
   ]
  },
  {
   "cell_type": "code",
   "execution_count": 59,
   "metadata": {},
   "outputs": [
    {
     "name": "stdout",
     "output_type": "stream",
     "text": [
      "Targaryen Dragon\n",
      "Stark Direwolf\n",
      "Lannister Lion\n",
      "Greyjoy Kraken\n",
      "Arryn Falcon\n",
      "Baratheon Stag\n",
      "Tully Trout\n",
      "Tyrell Rose\n",
      "Martell Sunspear\n"
     ]
    }
   ],
   "source": [
    "z = zip(houses, sigils)\n",
    "for house, sigil in z:\n",
    "    print(house, sigil)"
   ]
  },
  {
   "cell_type": "code",
   "execution_count": 61,
   "metadata": {},
   "outputs": [
    {
     "name": "stdout",
     "output_type": "stream",
     "text": [
      "('Targaryen', 'Dragon') ('Stark', 'Direwolf') ('Lannister', 'Lion') ('Greyjoy', 'Kraken') ('Arryn', 'Falcon') ('Baratheon', 'Stag') ('Tully', 'Trout') ('Tyrell', 'Rose') ('Martell', 'Sunspear')\n"
     ]
    }
   ],
   "source": [
    "z = zip(houses, sigils)\n",
    "print(*z)"
   ]
  },
  {
   "cell_type": "code",
   "execution_count": 62,
   "metadata": {},
   "outputs": [
    {
     "name": "stdout",
     "output_type": "stream",
     "text": [
      "('Targaryen', 'Stark', 'Lannister', 'Greyjoy', 'Arryn', 'Baratheon', 'Tully', 'Tyrell', 'Martell')\n",
      "('Dragon', 'Direwolf', 'Lion', 'Kraken', 'Falcon', 'Stag', 'Trout', 'Rose', 'Sunspear')\n"
     ]
    }
   ],
   "source": [
    "# Using * and zip to 'unzip'\n",
    "z = zip(houses, sigils)\n",
    "result1, result2 = zip(*z)\n",
    "print(result1)\n",
    "print(result2)"
   ]
  },
  {
   "cell_type": "markdown",
   "metadata": {},
   "source": [
    "### List Comprehension"
   ]
  },
  {
   "cell_type": "code",
   "execution_count": 69,
   "metadata": {},
   "outputs": [
    {
     "data": {
      "text/plain": [
       "[9.6, 4.0, 6.4, 31.2, 16.0]"
      ]
     },
     "execution_count": 69,
     "metadata": {},
     "output_type": "execute_result"
    }
   ],
   "source": [
    "nums = [12, 5, 8, 39, 20]\n",
    "[round(num * 0.8, 2) for num in nums]"
   ]
  },
  {
   "cell_type": "code",
   "execution_count": 68,
   "metadata": {},
   "outputs": [
    {
     "name": "stdout",
     "output_type": "stream",
     "text": [
      "[0, 1, 2, 3, 4]\n",
      "[0, 1, 2, 3, 4]\n",
      "[0, 1, 2, 3, 4]\n",
      "[0, 1, 2, 3, 4]\n",
      "[0, 1, 2, 3, 4]\n"
     ]
    }
   ],
   "source": [
    "# Create a 5 x 5 matrix using a list of lists: matrix\n",
    "matrix = [[i for i in range(5)] for i in range(5)]\n",
    "for row in matrix:\n",
    "    print(row)"
   ]
  },
  {
   "cell_type": "code",
   "execution_count": 72,
   "metadata": {},
   "outputs": [
    {
     "data": {
      "text/plain": [
       "[12, 15, 18, 39, 20]"
      ]
     },
     "execution_count": 72,
     "metadata": {},
     "output_type": "execute_result"
    }
   ],
   "source": [
    "# Conditionals in comprehensions\n",
    "[num + 10 if num <10 else num for num in nums]"
   ]
  },
  {
   "cell_type": "code",
   "execution_count": 73,
   "metadata": {},
   "outputs": [
    {
     "data": {
      "text/plain": [
       "[10, 16]"
      ]
     },
     "execution_count": 73,
     "metadata": {},
     "output_type": "execute_result"
    }
   ],
   "source": [
    "# Conditionals on the iterable\n",
    "[num * 2 for num in nums if num < 10]"
   ]
  },
  {
   "cell_type": "markdown",
   "metadata": {},
   "source": [
    "### Generator\n",
    "Lazy evaluation – the value of the evaluation is delayed until the value is needed. This would help when dealing with extremely large sequences since you don’t want to store the entire list in the memory."
   ]
  },
  {
   "cell_type": "code",
   "execution_count": 74,
   "metadata": {},
   "outputs": [
    {
     "data": {
      "text/plain": [
       "[0, 2, 4, 6, 8, 10, 12, 14, 16, 18]"
      ]
     },
     "execution_count": 74,
     "metadata": {},
     "output_type": "execute_result"
    }
   ],
   "source": [
    "# List comprehension\n",
    "[2 * num for num in range(10)]"
   ]
  },
  {
   "cell_type": "code",
   "execution_count": 75,
   "metadata": {},
   "outputs": [
    {
     "data": {
      "text/plain": [
       "<generator object <genexpr> at 0x0000020FB4772FC0>"
      ]
     },
     "execution_count": 75,
     "metadata": {},
     "output_type": "execute_result"
    }
   ],
   "source": [
    "# Use () instead of []\n",
    "(2 * num for num in range(10))"
   ]
  },
  {
   "cell_type": "code",
   "execution_count": 76,
   "metadata": {},
   "outputs": [
    {
     "name": "stdout",
     "output_type": "stream",
     "text": [
      "0\n",
      "2\n"
     ]
    }
   ],
   "source": [
    "# print values for generators\n",
    "result = (2 * num for num in range(10))\n",
    "print(next(result))\n",
    "print(next(result))"
   ]
  },
  {
   "cell_type": "markdown",
   "metadata": {},
   "source": [
    "### Generator vs. List comprehensions\n",
    "A generator for large sequences could be easily created because it does not yet create the entire list. Anything we can do on a list comprehension can also be done on a generator expression. However, generator could be more efficient to process large iterators. Remember to convert a generator to a list when printing it out."
   ]
  },
  {
   "cell_type": "code",
   "execution_count": null,
   "metadata": {},
   "outputs": [],
   "source": []
  }
 ],
 "metadata": {
  "kernelspec": {
   "display_name": "Python 3",
   "language": "python",
   "name": "python3"
  },
  "language_info": {
   "codemirror_mode": {
    "name": "ipython",
    "version": 3
   },
   "file_extension": ".py",
   "mimetype": "text/x-python",
   "name": "python",
   "nbconvert_exporter": "python",
   "pygments_lexer": "ipython3",
   "version": "3.5.2"
  }
 },
 "nbformat": 4,
 "nbformat_minor": 2
}
