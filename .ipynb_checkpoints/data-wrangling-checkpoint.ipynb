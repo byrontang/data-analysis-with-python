{
 "cells": [
  {
   "cell_type": "code",
   "execution_count": 101,
   "metadata": {
    "collapsed": true
   },
   "outputs": [],
   "source": [
    "import numpy as np\n",
    "import pandas as pd\n",
    "import matplotlib.pyplot as plt"
   ]
  },
  {
   "cell_type": "code",
   "execution_count": 70,
   "metadata": {},
   "outputs": [],
   "source": [
    "## import indicators.csv and filter only data for USA\n",
    "df = pd.read_csv('C:\\\\Users\\\\byron\\\\Desktop\\\\data\\\\Indicators.csv', nrows = 100000)"
   ]
  },
  {
   "cell_type": "code",
   "execution_count": 71,
   "metadata": {},
   "outputs": [
    {
     "name": "stdout",
     "output_type": "stream",
     "text": [
      "<class 'pandas.core.frame.DataFrame'>\n",
      "RangeIndex: 100000 entries, 0 to 99999\n",
      "Data columns (total 6 columns):\n",
      "CountryName      100000 non-null object\n",
      "CountryCode      100000 non-null object\n",
      "IndicatorName    100000 non-null object\n",
      "IndicatorCode    100000 non-null object\n",
      "Year             100000 non-null int64\n",
      "Value            100000 non-null float64\n",
      "dtypes: float64(1), int64(1), object(4)\n",
      "memory usage: 4.6+ MB\n"
     ]
    }
   ],
   "source": [
    "## As the data frame only contains data for USA, the country column is not needed.\n",
    "## Transform each indicator into a column and each row as an year\n",
    "df.info()"
   ]
  },
  {
   "cell_type": "code",
   "execution_count": 72,
   "metadata": {},
   "outputs": [
    {
     "data": {
      "text/plain": [
       "(100000, 6)"
      ]
     },
     "execution_count": 72,
     "metadata": {},
     "output_type": "execute_result"
    }
   ],
   "source": [
    "df.shape"
   ]
  },
  {
   "cell_type": "code",
   "execution_count": 73,
   "metadata": {},
   "outputs": [
    {
     "data": {
      "text/html": [
       "<div>\n",
       "<style>\n",
       "    .dataframe thead tr:only-child th {\n",
       "        text-align: right;\n",
       "    }\n",
       "\n",
       "    .dataframe thead th {\n",
       "        text-align: left;\n",
       "    }\n",
       "\n",
       "    .dataframe tbody tr th {\n",
       "        vertical-align: top;\n",
       "    }\n",
       "</style>\n",
       "<table border=\"1\" class=\"dataframe\">\n",
       "  <thead>\n",
       "    <tr style=\"text-align: right;\">\n",
       "      <th></th>\n",
       "      <th>CountryName</th>\n",
       "      <th>CountryCode</th>\n",
       "      <th>IndicatorName</th>\n",
       "      <th>IndicatorCode</th>\n",
       "      <th>Year</th>\n",
       "      <th>Value</th>\n",
       "    </tr>\n",
       "  </thead>\n",
       "  <tbody>\n",
       "    <tr>\n",
       "      <th>0</th>\n",
       "      <td>Arab World</td>\n",
       "      <td>ARB</td>\n",
       "      <td>Adolescent fertility rate (births per 1,000 wo...</td>\n",
       "      <td>SP.ADO.TFRT</td>\n",
       "      <td>1960</td>\n",
       "      <td>1.335609e+02</td>\n",
       "    </tr>\n",
       "    <tr>\n",
       "      <th>1</th>\n",
       "      <td>Arab World</td>\n",
       "      <td>ARB</td>\n",
       "      <td>Age dependency ratio (% of working-age populat...</td>\n",
       "      <td>SP.POP.DPND</td>\n",
       "      <td>1960</td>\n",
       "      <td>8.779760e+01</td>\n",
       "    </tr>\n",
       "    <tr>\n",
       "      <th>2</th>\n",
       "      <td>Arab World</td>\n",
       "      <td>ARB</td>\n",
       "      <td>Age dependency ratio, old (% of working-age po...</td>\n",
       "      <td>SP.POP.DPND.OL</td>\n",
       "      <td>1960</td>\n",
       "      <td>6.634579e+00</td>\n",
       "    </tr>\n",
       "    <tr>\n",
       "      <th>3</th>\n",
       "      <td>Arab World</td>\n",
       "      <td>ARB</td>\n",
       "      <td>Age dependency ratio, young (% of working-age ...</td>\n",
       "      <td>SP.POP.DPND.YG</td>\n",
       "      <td>1960</td>\n",
       "      <td>8.102333e+01</td>\n",
       "    </tr>\n",
       "    <tr>\n",
       "      <th>4</th>\n",
       "      <td>Arab World</td>\n",
       "      <td>ARB</td>\n",
       "      <td>Arms exports (SIPRI trend indicator values)</td>\n",
       "      <td>MS.MIL.XPRT.KD</td>\n",
       "      <td>1960</td>\n",
       "      <td>3.000000e+06</td>\n",
       "    </tr>\n",
       "  </tbody>\n",
       "</table>\n",
       "</div>"
      ],
      "text/plain": [
       "  CountryName CountryCode                                      IndicatorName  \\\n",
       "0  Arab World         ARB  Adolescent fertility rate (births per 1,000 wo...   \n",
       "1  Arab World         ARB  Age dependency ratio (% of working-age populat...   \n",
       "2  Arab World         ARB  Age dependency ratio, old (% of working-age po...   \n",
       "3  Arab World         ARB  Age dependency ratio, young (% of working-age ...   \n",
       "4  Arab World         ARB        Arms exports (SIPRI trend indicator values)   \n",
       "\n",
       "    IndicatorCode  Year         Value  \n",
       "0     SP.ADO.TFRT  1960  1.335609e+02  \n",
       "1     SP.POP.DPND  1960  8.779760e+01  \n",
       "2  SP.POP.DPND.OL  1960  6.634579e+00  \n",
       "3  SP.POP.DPND.YG  1960  8.102333e+01  \n",
       "4  MS.MIL.XPRT.KD  1960  3.000000e+06  "
      ]
     },
     "execution_count": 73,
     "metadata": {},
     "output_type": "execute_result"
    }
   ],
   "source": [
    "df.head()"
   ]
  },
  {
   "cell_type": "code",
   "execution_count": 74,
   "metadata": {},
   "outputs": [
    {
     "data": {
      "text/plain": [
       "East Asia & Pacific (developing only)        123\n",
       "East Asia & Pacific (all income levels)      122\n",
       "Euro area                                    119\n",
       "European Union                               116\n",
       "Europe & Central Asia (all income levels)    109\n",
       "Europe & Central Asia (developing only)       89\n",
       "Arab World                                    80\n",
       "Caribbean small states                        77\n",
       "Fragile and conflict affected situations      76\n",
       "Central Europe and the Baltics                71\n",
       "Heavily indebted poor countries (HIPC)        18\n",
       "Name: CountryName, dtype: int64"
      ]
     },
     "execution_count": 74,
     "metadata": {},
     "output_type": "execute_result"
    }
   ],
   "source": [
    "# Frequency count (sorted by value decendingly)\n",
    "df[0:1000].CountryName.value_counts(dropna = False)"
   ]
  },
  {
   "cell_type": "code",
   "execution_count": 76,
   "metadata": {},
   "outputs": [
    {
     "data": {
      "text/plain": [
       "Heavily indebted poor countries (HIPC)        18\n",
       "Central Europe and the Baltics                71\n",
       "Fragile and conflict affected situations      76\n",
       "Caribbean small states                        77\n",
       "Arab World                                    80\n",
       "Europe & Central Asia (developing only)       89\n",
       "Europe & Central Asia (all income levels)    109\n",
       "European Union                               116\n",
       "Euro area                                    119\n",
       "East Asia & Pacific (all income levels)      122\n",
       "East Asia & Pacific (developing only)        123\n",
       "Name: CountryName, dtype: int64"
      ]
     },
     "execution_count": 76,
     "metadata": {},
     "output_type": "execute_result"
    }
   ],
   "source": [
    "# Sort by values acendingly\n",
    "df[0:1000].CountryName.value_counts(dropna = False).sort_values(ascending = True)"
   ]
  },
  {
   "cell_type": "code",
   "execution_count": 77,
   "metadata": {},
   "outputs": [
    {
     "data": {
      "text/plain": [
       "Arab World                                    80\n",
       "Caribbean small states                        77\n",
       "Central Europe and the Baltics                71\n",
       "East Asia & Pacific (all income levels)      122\n",
       "East Asia & Pacific (developing only)        123\n",
       "Euro area                                    119\n",
       "Europe & Central Asia (all income levels)    109\n",
       "Europe & Central Asia (developing only)       89\n",
       "European Union                               116\n",
       "Fragile and conflict affected situations      76\n",
       "Heavily indebted poor countries (HIPC)        18\n",
       "Name: CountryName, dtype: int64"
      ]
     },
     "execution_count": 77,
     "metadata": {},
     "output_type": "execute_result"
    }
   ],
   "source": [
    "# Sort by index\n",
    "df[0:1000].CountryName.value_counts(dropna = False).sort_index()"
   ]
  },
  {
   "cell_type": "markdown",
   "metadata": {},
   "source": [
    "### Summary Statistics"
   ]
  },
  {
   "cell_type": "code",
   "execution_count": 78,
   "metadata": {},
   "outputs": [
    {
     "data": {
      "text/html": [
       "<div>\n",
       "<style>\n",
       "    .dataframe thead tr:only-child th {\n",
       "        text-align: right;\n",
       "    }\n",
       "\n",
       "    .dataframe thead th {\n",
       "        text-align: left;\n",
       "    }\n",
       "\n",
       "    .dataframe tbody tr th {\n",
       "        vertical-align: top;\n",
       "    }\n",
       "</style>\n",
       "<table border=\"1\" class=\"dataframe\">\n",
       "  <thead>\n",
       "    <tr style=\"text-align: right;\">\n",
       "      <th></th>\n",
       "      <th>Year</th>\n",
       "      <th>Value</th>\n",
       "    </tr>\n",
       "  </thead>\n",
       "  <tbody>\n",
       "    <tr>\n",
       "      <th>count</th>\n",
       "      <td>100000.000000</td>\n",
       "      <td>1.000000e+05</td>\n",
       "    </tr>\n",
       "    <tr>\n",
       "      <th>mean</th>\n",
       "      <td>1961.487630</td>\n",
       "      <td>3.065939e+11</td>\n",
       "    </tr>\n",
       "    <tr>\n",
       "      <th>std</th>\n",
       "      <td>1.071792</td>\n",
       "      <td>8.128179e+12</td>\n",
       "    </tr>\n",
       "    <tr>\n",
       "      <th>min</th>\n",
       "      <td>1960.000000</td>\n",
       "      <td>-1.181558e+14</td>\n",
       "    </tr>\n",
       "    <tr>\n",
       "      <th>25%</th>\n",
       "      <td>1961.000000</td>\n",
       "      <td>6.469137e+00</td>\n",
       "    </tr>\n",
       "    <tr>\n",
       "      <th>50%</th>\n",
       "      <td>1962.000000</td>\n",
       "      <td>6.728000e+01</td>\n",
       "    </tr>\n",
       "    <tr>\n",
       "      <th>75%</th>\n",
       "      <td>1962.000000</td>\n",
       "      <td>5.650574e+06</td>\n",
       "    </tr>\n",
       "    <tr>\n",
       "      <th>max</th>\n",
       "      <td>1963.000000</td>\n",
       "      <td>5.037593e+14</td>\n",
       "    </tr>\n",
       "  </tbody>\n",
       "</table>\n",
       "</div>"
      ],
      "text/plain": [
       "                Year         Value\n",
       "count  100000.000000  1.000000e+05\n",
       "mean     1961.487630  3.065939e+11\n",
       "std         1.071792  8.128179e+12\n",
       "min      1960.000000 -1.181558e+14\n",
       "25%      1961.000000  6.469137e+00\n",
       "50%      1962.000000  6.728000e+01\n",
       "75%      1962.000000  5.650574e+06\n",
       "max      1963.000000  5.037593e+14"
      ]
     },
     "execution_count": 78,
     "metadata": {},
     "output_type": "execute_result"
    }
   ],
   "source": [
    "# applying describe() directly to df doesn't make much sense\n",
    "df.describe()"
   ]
  },
  {
   "cell_type": "code",
   "execution_count": 79,
   "metadata": {},
   "outputs": [
    {
     "data": {
      "text/plain": [
       "count    851.000000\n",
       "mean     100.522860\n",
       "std       54.592668\n",
       "min        3.801000\n",
       "25%       49.073800\n",
       "50%      101.237486\n",
       "75%      142.621200\n",
       "max      235.320000\n",
       "Name: Value, dtype: float64"
      ]
     },
     "execution_count": 79,
     "metadata": {},
     "output_type": "execute_result"
    }
   ],
   "source": [
    "df.Value[df.IndicatorCode == 'SP.ADO.TFRT'].describe()"
   ]
  },
  {
   "cell_type": "markdown",
   "metadata": {},
   "source": [
    "### Data Visulization"
   ]
  },
  {
   "cell_type": "code",
   "execution_count": 80,
   "metadata": {},
   "outputs": [
    {
     "data": {
      "text/plain": [
       "<matplotlib.figure.Figure at 0x2360804ec88>"
      ]
     },
     "metadata": {},
     "output_type": "display_data"
    },
    {
     "data": {
      "image/png": "[encoded data removed]",
      "text/plain": [
       "<matplotlib.figure.Figure at 0x236098e6e80>"
      ]
     },
     "metadata": {},
     "output_type": "display_data"
    }
   ],
   "source": [
    "# use plot()\n",
    "df.Value[df.IndicatorCode == 'SP.ADO.TFRT'].plot('hist')\n",
    "plt.show()"
   ]
  },
  {
   "cell_type": "code",
   "execution_count": 83,
   "metadata": {},
   "outputs": [
    {
     "name": "stderr",
     "output_type": "stream",
     "text": [
      "c:\\users\\byron\\appdata\\local\\programs\\python\\python35\\lib\\site-packages\\numpy\\core\\fromnumeric.py:57: FutureWarning: reshape is deprecated and will raise in a subsequent release. Please use .values.reshape(...) instead\n",
      "  return getattr(obj, method)(*args, **kwds)\n"
     ]
    },
    {
     "data": {
      "text/plain": [
       "<matplotlib.figure.Figure at 0x23609980b00>"
      ]
     },
     "metadata": {},
     "output_type": "display_data"
    },
    {
     "data": {
      "image/png": "[encoded data removed]",
      "text/plain": [
       "<matplotlib.figure.Figure at 0x23608385ef0>"
      ]
     },
     "metadata": {},
     "output_type": "display_data"
    }
   ],
   "source": [
    "df[df.IndicatorCode == 'SP.ADO.TFRT'].boxplot(column = 'Value', by = 'Year')\n",
    "plt.show()"
   ]
  },
  {
   "cell_type": "code",
   "execution_count": 84,
   "metadata": {},
   "outputs": [
    {
     "data": {
      "text/plain": [
       "<matplotlib.figure.Figure at 0x23608030dd8>"
      ]
     },
     "metadata": {},
     "output_type": "display_data"
    },
    {
     "data": {
      "image/png": "[encoded data removed]",
      "text/plain": [
       "<matplotlib.figure.Figure at 0x236083ee470>"
      ]
     },
     "metadata": {},
     "output_type": "display_data"
    }
   ],
   "source": [
    "# Ideally x and y should all be numerical\n",
    "df[df.IndicatorCode == 'SP.ADO.TFRT'].plot(kind ='scatter', x = 'Year', y = 'Value')\n",
    "plt.show()"
   ]
  },
  {
   "cell_type": "markdown",
   "metadata": {},
   "source": [
    "## Data Transform\n",
    "Columns containing values, instead of variables."
   ]
  },
  {
   "cell_type": "code",
   "execution_count": 85,
   "metadata": {},
   "outputs": [
    {
     "data": {
      "text/html": [
       "<div>\n",
       "<style>\n",
       "    .dataframe thead tr:only-child th {\n",
       "        text-align: right;\n",
       "    }\n",
       "\n",
       "    .dataframe thead th {\n",
       "        text-align: left;\n",
       "    }\n",
       "\n",
       "    .dataframe tbody tr th {\n",
       "        vertical-align: top;\n",
       "    }\n",
       "</style>\n",
       "<table border=\"1\" class=\"dataframe\">\n",
       "  <thead>\n",
       "    <tr style=\"text-align: right;\">\n",
       "      <th></th>\n",
       "      <th>CountryName</th>\n",
       "      <th>CountryCode</th>\n",
       "      <th>IndicatorName</th>\n",
       "      <th>IndicatorCode</th>\n",
       "      <th>Year</th>\n",
       "      <th>Value</th>\n",
       "    </tr>\n",
       "  </thead>\n",
       "  <tbody>\n",
       "    <tr>\n",
       "      <th>0</th>\n",
       "      <td>Arab World</td>\n",
       "      <td>ARB</td>\n",
       "      <td>Adolescent fertility rate (births per 1,000 wo...</td>\n",
       "      <td>SP.ADO.TFRT</td>\n",
       "      <td>1960</td>\n",
       "      <td>1.335609e+02</td>\n",
       "    </tr>\n",
       "    <tr>\n",
       "      <th>1</th>\n",
       "      <td>Arab World</td>\n",
       "      <td>ARB</td>\n",
       "      <td>Age dependency ratio (% of working-age populat...</td>\n",
       "      <td>SP.POP.DPND</td>\n",
       "      <td>1960</td>\n",
       "      <td>8.779760e+01</td>\n",
       "    </tr>\n",
       "    <tr>\n",
       "      <th>2</th>\n",
       "      <td>Arab World</td>\n",
       "      <td>ARB</td>\n",
       "      <td>Age dependency ratio, old (% of working-age po...</td>\n",
       "      <td>SP.POP.DPND.OL</td>\n",
       "      <td>1960</td>\n",
       "      <td>6.634579e+00</td>\n",
       "    </tr>\n",
       "    <tr>\n",
       "      <th>3</th>\n",
       "      <td>Arab World</td>\n",
       "      <td>ARB</td>\n",
       "      <td>Age dependency ratio, young (% of working-age ...</td>\n",
       "      <td>SP.POP.DPND.YG</td>\n",
       "      <td>1960</td>\n",
       "      <td>8.102333e+01</td>\n",
       "    </tr>\n",
       "    <tr>\n",
       "      <th>4</th>\n",
       "      <td>Arab World</td>\n",
       "      <td>ARB</td>\n",
       "      <td>Arms exports (SIPRI trend indicator values)</td>\n",
       "      <td>MS.MIL.XPRT.KD</td>\n",
       "      <td>1960</td>\n",
       "      <td>3.000000e+06</td>\n",
       "    </tr>\n",
       "  </tbody>\n",
       "</table>\n",
       "</div>"
      ],
      "text/plain": [
       "  CountryName CountryCode                                      IndicatorName  \\\n",
       "0  Arab World         ARB  Adolescent fertility rate (births per 1,000 wo...   \n",
       "1  Arab World         ARB  Age dependency ratio (% of working-age populat...   \n",
       "2  Arab World         ARB  Age dependency ratio, old (% of working-age po...   \n",
       "3  Arab World         ARB  Age dependency ratio, young (% of working-age ...   \n",
       "4  Arab World         ARB        Arms exports (SIPRI trend indicator values)   \n",
       "\n",
       "    IndicatorCode  Year         Value  \n",
       "0     SP.ADO.TFRT  1960  1.335609e+02  \n",
       "1     SP.POP.DPND  1960  8.779760e+01  \n",
       "2  SP.POP.DPND.OL  1960  6.634579e+00  \n",
       "3  SP.POP.DPND.YG  1960  8.102333e+01  \n",
       "4  MS.MIL.XPRT.KD  1960  3.000000e+06  "
      ]
     },
     "execution_count": 85,
     "metadata": {},
     "output_type": "execute_result"
    }
   ],
   "source": [
    "df.head()"
   ]
  },
  {
   "cell_type": "code",
   "execution_count": 86,
   "metadata": {},
   "outputs": [
    {
     "data": {
      "text/plain": [
       "1962    28439\n",
       "1961    26617\n",
       "1960    23188\n",
       "1963    21756\n",
       "Name: Year, dtype: int64"
      ]
     },
     "execution_count": 86,
     "metadata": {},
     "output_type": "execute_result"
    }
   ],
   "source": [
    "df.Year.value_counts()"
   ]
  },
  {
   "cell_type": "markdown",
   "metadata": {},
   "source": [
    "### Spread year to columns"
   ]
  },
  {
   "cell_type": "code",
   "execution_count": 156,
   "metadata": {},
   "outputs": [
    {
     "data": {
      "text/html": [
       "<div>\n",
       "<style>\n",
       "    .dataframe thead tr:only-child th {\n",
       "        text-align: right;\n",
       "    }\n",
       "\n",
       "    .dataframe thead th {\n",
       "        text-align: left;\n",
       "    }\n",
       "\n",
       "    .dataframe tbody tr th {\n",
       "        vertical-align: top;\n",
       "    }\n",
       "</style>\n",
       "<table border=\"1\" class=\"dataframe\">\n",
       "  <thead>\n",
       "    <tr>\n",
       "      <th></th>\n",
       "      <th></th>\n",
       "      <th></th>\n",
       "      <th></th>\n",
       "      <th colspan=\"4\" halign=\"left\">Value</th>\n",
       "    </tr>\n",
       "    <tr>\n",
       "      <th></th>\n",
       "      <th></th>\n",
       "      <th></th>\n",
       "      <th>Year</th>\n",
       "      <th>1960</th>\n",
       "      <th>1961</th>\n",
       "      <th>1962</th>\n",
       "      <th>1963</th>\n",
       "    </tr>\n",
       "    <tr>\n",
       "      <th>CountryName</th>\n",
       "      <th>CountryCode</th>\n",
       "      <th>IndicatorName</th>\n",
       "      <th>IndicatorCode</th>\n",
       "      <th></th>\n",
       "      <th></th>\n",
       "      <th></th>\n",
       "      <th></th>\n",
       "    </tr>\n",
       "  </thead>\n",
       "  <tbody>\n",
       "    <tr>\n",
       "      <th rowspan=\"5\" valign=\"top\">Afghanistan</th>\n",
       "      <th rowspan=\"5\" valign=\"top\">AFG</th>\n",
       "      <th>Adolescent fertility rate (births per 1,000 women ages 15-19)</th>\n",
       "      <th>SP.ADO.TFRT</th>\n",
       "      <td>145.321000</td>\n",
       "      <td>145.321000</td>\n",
       "      <td>145.321000</td>\n",
       "      <td>145.321000</td>\n",
       "    </tr>\n",
       "    <tr>\n",
       "      <th>Age dependency ratio (% of working-age population)</th>\n",
       "      <th>SP.POP.DPND</th>\n",
       "      <td>81.717726</td>\n",
       "      <td>82.755896</td>\n",
       "      <td>83.304557</td>\n",
       "      <td>83.550740</td>\n",
       "    </tr>\n",
       "    <tr>\n",
       "      <th>Age dependency ratio, old (% of working-age population)</th>\n",
       "      <th>SP.POP.DPND.OL</th>\n",
       "      <td>5.086254</td>\n",
       "      <td>5.132610</td>\n",
       "      <td>5.139519</td>\n",
       "      <td>5.111892</td>\n",
       "    </tr>\n",
       "    <tr>\n",
       "      <th>Age dependency ratio, young (% of working-age population)</th>\n",
       "      <th>SP.POP.DPND.YG</th>\n",
       "      <td>76.631472</td>\n",
       "      <td>77.623286</td>\n",
       "      <td>78.165038</td>\n",
       "      <td>78.438848</td>\n",
       "    </tr>\n",
       "    <tr>\n",
       "      <th>Agricultural land (% of land area)</th>\n",
       "      <th>AG.LND.AGRI.ZS</th>\n",
       "      <td>NaN</td>\n",
       "      <td>57.745918</td>\n",
       "      <td>57.837821</td>\n",
       "      <td>57.914407</td>\n",
       "    </tr>\n",
       "  </tbody>\n",
       "</table>\n",
       "</div>"
      ],
      "text/plain": [
       "                                                                                                Value  \\\n",
       "Year                                                                                             1960   \n",
       "CountryName CountryCode IndicatorName                                      IndicatorCode                \n",
       "Afghanistan AFG         Adolescent fertility rate (births per 1,000 wom... SP.ADO.TFRT     145.321000   \n",
       "                        Age dependency ratio (% of working-age population) SP.POP.DPND      81.717726   \n",
       "                        Age dependency ratio, old (% of working-age pop... SP.POP.DPND.OL    5.086254   \n",
       "                        Age dependency ratio, young (% of working-age p... SP.POP.DPND.YG   76.631472   \n",
       "                        Agricultural land (% of land area)                 AG.LND.AGRI.ZS         NaN   \n",
       "\n",
       "                                                                                                       \\\n",
       "Year                                                                                             1961   \n",
       "CountryName CountryCode IndicatorName                                      IndicatorCode                \n",
       "Afghanistan AFG         Adolescent fertility rate (births per 1,000 wom... SP.ADO.TFRT     145.321000   \n",
       "                        Age dependency ratio (% of working-age population) SP.POP.DPND      82.755896   \n",
       "                        Age dependency ratio, old (% of working-age pop... SP.POP.DPND.OL    5.132610   \n",
       "                        Age dependency ratio, young (% of working-age p... SP.POP.DPND.YG   77.623286   \n",
       "                        Agricultural land (% of land area)                 AG.LND.AGRI.ZS   57.745918   \n",
       "\n",
       "                                                                                                       \\\n",
       "Year                                                                                             1962   \n",
       "CountryName CountryCode IndicatorName                                      IndicatorCode                \n",
       "Afghanistan AFG         Adolescent fertility rate (births per 1,000 wom... SP.ADO.TFRT     145.321000   \n",
       "                        Age dependency ratio (% of working-age population) SP.POP.DPND      83.304557   \n",
       "                        Age dependency ratio, old (% of working-age pop... SP.POP.DPND.OL    5.139519   \n",
       "                        Age dependency ratio, young (% of working-age p... SP.POP.DPND.YG   78.165038   \n",
       "                        Agricultural land (% of land area)                 AG.LND.AGRI.ZS   57.837821   \n",
       "\n",
       "                                                                                                       \n",
       "Year                                                                                             1963  \n",
       "CountryName CountryCode IndicatorName                                      IndicatorCode               \n",
       "Afghanistan AFG         Adolescent fertility rate (births per 1,000 wom... SP.ADO.TFRT     145.321000  \n",
       "                        Age dependency ratio (% of working-age population) SP.POP.DPND      83.550740  \n",
       "                        Age dependency ratio, old (% of working-age pop... SP.POP.DPND.OL    5.111892  \n",
       "                        Age dependency ratio, young (% of working-age p... SP.POP.DPND.YG   78.438848  \n",
       "                        Agricultural land (% of land area)                 AG.LND.AGRI.ZS   57.914407  "
      ]
     },
     "execution_count": 156,
     "metadata": {},
     "output_type": "execute_result"
    }
   ],
   "source": [
    "df_pivot = pd.pivot_table(df, \n",
    "               values = ['Value'], \n",
    "               index = ['CountryName', 'CountryCode', 'IndicatorName', 'IndicatorCode'],\n",
    "               columns = ['Year'])\n",
    "df_pivot.head()"
   ]
  },
  {
   "cell_type": "markdown",
   "metadata": {},
   "source": [
    "### Flatten multi-index in columns"
   ]
  },
  {
   "cell_type": "code",
   "execution_count": 157,
   "metadata": {},
   "outputs": [
    {
     "data": {
      "text/html": [
       "<div>\n",
       "<style>\n",
       "    .dataframe thead tr:only-child th {\n",
       "        text-align: right;\n",
       "    }\n",
       "\n",
       "    .dataframe thead th {\n",
       "        text-align: left;\n",
       "    }\n",
       "\n",
       "    .dataframe tbody tr th {\n",
       "        vertical-align: top;\n",
       "    }\n",
       "</style>\n",
       "<table border=\"1\" class=\"dataframe\">\n",
       "  <thead>\n",
       "    <tr style=\"text-align: right;\">\n",
       "      <th></th>\n",
       "      <th></th>\n",
       "      <th></th>\n",
       "      <th>Year</th>\n",
       "      <th>1960</th>\n",
       "      <th>1961</th>\n",
       "      <th>1962</th>\n",
       "      <th>1963</th>\n",
       "    </tr>\n",
       "    <tr>\n",
       "      <th>CountryName</th>\n",
       "      <th>CountryCode</th>\n",
       "      <th>IndicatorName</th>\n",
       "      <th>IndicatorCode</th>\n",
       "      <th></th>\n",
       "      <th></th>\n",
       "      <th></th>\n",
       "      <th></th>\n",
       "    </tr>\n",
       "  </thead>\n",
       "  <tbody>\n",
       "    <tr>\n",
       "      <th rowspan=\"5\" valign=\"top\">Afghanistan</th>\n",
       "      <th rowspan=\"5\" valign=\"top\">AFG</th>\n",
       "      <th>Adolescent fertility rate (births per 1,000 women ages 15-19)</th>\n",
       "      <th>SP.ADO.TFRT</th>\n",
       "      <td>145.321000</td>\n",
       "      <td>145.321000</td>\n",
       "      <td>145.321000</td>\n",
       "      <td>145.321000</td>\n",
       "    </tr>\n",
       "    <tr>\n",
       "      <th>Age dependency ratio (% of working-age population)</th>\n",
       "      <th>SP.POP.DPND</th>\n",
       "      <td>81.717726</td>\n",
       "      <td>82.755896</td>\n",
       "      <td>83.304557</td>\n",
       "      <td>83.550740</td>\n",
       "    </tr>\n",
       "    <tr>\n",
       "      <th>Age dependency ratio, old (% of working-age population)</th>\n",
       "      <th>SP.POP.DPND.OL</th>\n",
       "      <td>5.086254</td>\n",
       "      <td>5.132610</td>\n",
       "      <td>5.139519</td>\n",
       "      <td>5.111892</td>\n",
       "    </tr>\n",
       "    <tr>\n",
       "      <th>Age dependency ratio, young (% of working-age population)</th>\n",
       "      <th>SP.POP.DPND.YG</th>\n",
       "      <td>76.631472</td>\n",
       "      <td>77.623286</td>\n",
       "      <td>78.165038</td>\n",
       "      <td>78.438848</td>\n",
       "    </tr>\n",
       "    <tr>\n",
       "      <th>Agricultural land (% of land area)</th>\n",
       "      <th>AG.LND.AGRI.ZS</th>\n",
       "      <td>NaN</td>\n",
       "      <td>57.745918</td>\n",
       "      <td>57.837821</td>\n",
       "      <td>57.914407</td>\n",
       "    </tr>\n",
       "  </tbody>\n",
       "</table>\n",
       "</div>"
      ],
      "text/plain": [
       "Year                                                                                             1960  \\\n",
       "CountryName CountryCode IndicatorName                                      IndicatorCode                \n",
       "Afghanistan AFG         Adolescent fertility rate (births per 1,000 wom... SP.ADO.TFRT     145.321000   \n",
       "                        Age dependency ratio (% of working-age population) SP.POP.DPND      81.717726   \n",
       "                        Age dependency ratio, old (% of working-age pop... SP.POP.DPND.OL    5.086254   \n",
       "                        Age dependency ratio, young (% of working-age p... SP.POP.DPND.YG   76.631472   \n",
       "                        Agricultural land (% of land area)                 AG.LND.AGRI.ZS         NaN   \n",
       "\n",
       "Year                                                                                             1961  \\\n",
       "CountryName CountryCode IndicatorName                                      IndicatorCode                \n",
       "Afghanistan AFG         Adolescent fertility rate (births per 1,000 wom... SP.ADO.TFRT     145.321000   \n",
       "                        Age dependency ratio (% of working-age population) SP.POP.DPND      82.755896   \n",
       "                        Age dependency ratio, old (% of working-age pop... SP.POP.DPND.OL    5.132610   \n",
       "                        Age dependency ratio, young (% of working-age p... SP.POP.DPND.YG   77.623286   \n",
       "                        Agricultural land (% of land area)                 AG.LND.AGRI.ZS   57.745918   \n",
       "\n",
       "Year                                                                                             1962  \\\n",
       "CountryName CountryCode IndicatorName                                      IndicatorCode                \n",
       "Afghanistan AFG         Adolescent fertility rate (births per 1,000 wom... SP.ADO.TFRT     145.321000   \n",
       "                        Age dependency ratio (% of working-age population) SP.POP.DPND      83.304557   \n",
       "                        Age dependency ratio, old (% of working-age pop... SP.POP.DPND.OL    5.139519   \n",
       "                        Age dependency ratio, young (% of working-age p... SP.POP.DPND.YG   78.165038   \n",
       "                        Agricultural land (% of land area)                 AG.LND.AGRI.ZS   57.837821   \n",
       "\n",
       "Year                                                                                             1963  \n",
       "CountryName CountryCode IndicatorName                                      IndicatorCode               \n",
       "Afghanistan AFG         Adolescent fertility rate (births per 1,000 wom... SP.ADO.TFRT     145.321000  \n",
       "                        Age dependency ratio (% of working-age population) SP.POP.DPND      83.550740  \n",
       "                        Age dependency ratio, old (% of working-age pop... SP.POP.DPND.OL    5.111892  \n",
       "                        Age dependency ratio, young (% of working-age p... SP.POP.DPND.YG   78.438848  \n",
       "                        Agricultural land (% of land area)                 AG.LND.AGRI.ZS   57.914407  "
      ]
     },
     "execution_count": 157,
     "metadata": {},
     "output_type": "execute_result"
    }
   ],
   "source": [
    "df_pivot.columns = df_pivot.columns.get_level_values(1)\n",
    "df_pivot.head()"
   ]
  },
  {
   "cell_type": "markdown",
   "metadata": {},
   "source": [
    "### Reset multi-layer indexes to columns"
   ]
  },
  {
   "cell_type": "code",
   "execution_count": 158,
   "metadata": {},
   "outputs": [
    {
     "data": {
      "text/html": [
       "<div>\n",
       "<style>\n",
       "    .dataframe thead tr:only-child th {\n",
       "        text-align: right;\n",
       "    }\n",
       "\n",
       "    .dataframe thead th {\n",
       "        text-align: left;\n",
       "    }\n",
       "\n",
       "    .dataframe tbody tr th {\n",
       "        vertical-align: top;\n",
       "    }\n",
       "</style>\n",
       "<table border=\"1\" class=\"dataframe\">\n",
       "  <thead>\n",
       "    <tr style=\"text-align: right;\">\n",
       "      <th>Year</th>\n",
       "      <th>CountryName</th>\n",
       "      <th>CountryCode</th>\n",
       "      <th>IndicatorName</th>\n",
       "      <th>IndicatorCode</th>\n",
       "      <th>1960</th>\n",
       "      <th>1961</th>\n",
       "      <th>1962</th>\n",
       "      <th>1963</th>\n",
       "    </tr>\n",
       "  </thead>\n",
       "  <tbody>\n",
       "    <tr>\n",
       "      <th>0</th>\n",
       "      <td>Afghanistan</td>\n",
       "      <td>AFG</td>\n",
       "      <td>Adolescent fertility rate (births per 1,000 wo...</td>\n",
       "      <td>SP.ADO.TFRT</td>\n",
       "      <td>145.321000</td>\n",
       "      <td>145.321000</td>\n",
       "      <td>145.321000</td>\n",
       "      <td>145.321000</td>\n",
       "    </tr>\n",
       "    <tr>\n",
       "      <th>1</th>\n",
       "      <td>Afghanistan</td>\n",
       "      <td>AFG</td>\n",
       "      <td>Age dependency ratio (% of working-age populat...</td>\n",
       "      <td>SP.POP.DPND</td>\n",
       "      <td>81.717726</td>\n",
       "      <td>82.755896</td>\n",
       "      <td>83.304557</td>\n",
       "      <td>83.550740</td>\n",
       "    </tr>\n",
       "    <tr>\n",
       "      <th>2</th>\n",
       "      <td>Afghanistan</td>\n",
       "      <td>AFG</td>\n",
       "      <td>Age dependency ratio, old (% of working-age po...</td>\n",
       "      <td>SP.POP.DPND.OL</td>\n",
       "      <td>5.086254</td>\n",
       "      <td>5.132610</td>\n",
       "      <td>5.139519</td>\n",
       "      <td>5.111892</td>\n",
       "    </tr>\n",
       "    <tr>\n",
       "      <th>3</th>\n",
       "      <td>Afghanistan</td>\n",
       "      <td>AFG</td>\n",
       "      <td>Age dependency ratio, young (% of working-age ...</td>\n",
       "      <td>SP.POP.DPND.YG</td>\n",
       "      <td>76.631472</td>\n",
       "      <td>77.623286</td>\n",
       "      <td>78.165038</td>\n",
       "      <td>78.438848</td>\n",
       "    </tr>\n",
       "    <tr>\n",
       "      <th>4</th>\n",
       "      <td>Afghanistan</td>\n",
       "      <td>AFG</td>\n",
       "      <td>Agricultural land (% of land area)</td>\n",
       "      <td>AG.LND.AGRI.ZS</td>\n",
       "      <td>NaN</td>\n",
       "      <td>57.745918</td>\n",
       "      <td>57.837821</td>\n",
       "      <td>57.914407</td>\n",
       "    </tr>\n",
       "  </tbody>\n",
       "</table>\n",
       "</div>"
      ],
      "text/plain": [
       "Year  CountryName CountryCode  \\\n",
       "0     Afghanistan         AFG   \n",
       "1     Afghanistan         AFG   \n",
       "2     Afghanistan         AFG   \n",
       "3     Afghanistan         AFG   \n",
       "4     Afghanistan         AFG   \n",
       "\n",
       "Year                                      IndicatorName   IndicatorCode  \\\n",
       "0     Adolescent fertility rate (births per 1,000 wo...     SP.ADO.TFRT   \n",
       "1     Age dependency ratio (% of working-age populat...     SP.POP.DPND   \n",
       "2     Age dependency ratio, old (% of working-age po...  SP.POP.DPND.OL   \n",
       "3     Age dependency ratio, young (% of working-age ...  SP.POP.DPND.YG   \n",
       "4                    Agricultural land (% of land area)  AG.LND.AGRI.ZS   \n",
       "\n",
       "Year        1960        1961        1962        1963  \n",
       "0     145.321000  145.321000  145.321000  145.321000  \n",
       "1      81.717726   82.755896   83.304557   83.550740  \n",
       "2       5.086254    5.132610    5.139519    5.111892  \n",
       "3      76.631472   77.623286   78.165038   78.438848  \n",
       "4            NaN   57.745918   57.837821   57.914407  "
      ]
     },
     "execution_count": 158,
     "metadata": {},
     "output_type": "execute_result"
    }
   ],
   "source": [
    "df_pivot = df_pivot.reset_index()\n",
    "df_pivot.head()"
   ]
  },
  {
   "cell_type": "markdown",
   "metadata": {},
   "source": [
    "### Trandform df_pivot back to tidy structure"
   ]
  },
  {
   "cell_type": "code",
   "execution_count": 149,
   "metadata": {},
   "outputs": [
    {
     "data": {
      "text/html": [
       "<div>\n",
       "<style>\n",
       "    .dataframe thead tr:only-child th {\n",
       "        text-align: right;\n",
       "    }\n",
       "\n",
       "    .dataframe thead th {\n",
       "        text-align: left;\n",
       "    }\n",
       "\n",
       "    .dataframe tbody tr th {\n",
       "        vertical-align: top;\n",
       "    }\n",
       "</style>\n",
       "<table border=\"1\" class=\"dataframe\">\n",
       "  <thead>\n",
       "    <tr style=\"text-align: right;\">\n",
       "      <th></th>\n",
       "      <th>CountryName</th>\n",
       "      <th>CountryCode</th>\n",
       "      <th>IndicatorName</th>\n",
       "      <th>IndicatorCode</th>\n",
       "      <th>Year</th>\n",
       "      <th>Value</th>\n",
       "    </tr>\n",
       "  </thead>\n",
       "  <tbody>\n",
       "    <tr>\n",
       "      <th>646</th>\n",
       "      <td>Arab World</td>\n",
       "      <td>ARB</td>\n",
       "      <td>Adolescent fertility rate (births per 1,000 wo...</td>\n",
       "      <td>SP.ADO.TFRT</td>\n",
       "      <td>1960</td>\n",
       "      <td>1.335609e+02</td>\n",
       "    </tr>\n",
       "    <tr>\n",
       "      <th>647</th>\n",
       "      <td>Arab World</td>\n",
       "      <td>ARB</td>\n",
       "      <td>Age dependency ratio (% of working-age populat...</td>\n",
       "      <td>SP.POP.DPND</td>\n",
       "      <td>1960</td>\n",
       "      <td>8.779760e+01</td>\n",
       "    </tr>\n",
       "    <tr>\n",
       "      <th>648</th>\n",
       "      <td>Arab World</td>\n",
       "      <td>ARB</td>\n",
       "      <td>Age dependency ratio, old (% of working-age po...</td>\n",
       "      <td>SP.POP.DPND.OL</td>\n",
       "      <td>1960</td>\n",
       "      <td>6.634579e+00</td>\n",
       "    </tr>\n",
       "    <tr>\n",
       "      <th>649</th>\n",
       "      <td>Arab World</td>\n",
       "      <td>ARB</td>\n",
       "      <td>Age dependency ratio, young (% of working-age ...</td>\n",
       "      <td>SP.POP.DPND.YG</td>\n",
       "      <td>1960</td>\n",
       "      <td>8.102333e+01</td>\n",
       "    </tr>\n",
       "    <tr>\n",
       "      <th>656</th>\n",
       "      <td>Arab World</td>\n",
       "      <td>ARB</td>\n",
       "      <td>Arms exports (SIPRI trend indicator values)</td>\n",
       "      <td>MS.MIL.XPRT.KD</td>\n",
       "      <td>1960</td>\n",
       "      <td>3.000000e+06</td>\n",
       "    </tr>\n",
       "  </tbody>\n",
       "</table>\n",
       "</div>"
      ],
      "text/plain": [
       "    CountryName CountryCode  \\\n",
       "646  Arab World         ARB   \n",
       "647  Arab World         ARB   \n",
       "648  Arab World         ARB   \n",
       "649  Arab World         ARB   \n",
       "656  Arab World         ARB   \n",
       "\n",
       "                                         IndicatorName   IndicatorCode  Year  \\\n",
       "646  Adolescent fertility rate (births per 1,000 wo...     SP.ADO.TFRT  1960   \n",
       "647  Age dependency ratio (% of working-age populat...     SP.POP.DPND  1960   \n",
       "648  Age dependency ratio, old (% of working-age po...  SP.POP.DPND.OL  1960   \n",
       "649  Age dependency ratio, young (% of working-age ...  SP.POP.DPND.YG  1960   \n",
       "656        Arms exports (SIPRI trend indicator values)  MS.MIL.XPRT.KD  1960   \n",
       "\n",
       "            Value  \n",
       "646  1.335609e+02  \n",
       "647  8.779760e+01  \n",
       "648  6.634579e+00  \n",
       "649  8.102333e+01  \n",
       "656  3.000000e+06  "
      ]
     },
     "execution_count": 149,
     "metadata": {},
     "output_type": "execute_result"
    }
   ],
   "source": [
    "df_melt = df_pivot.melt(id_vars=['CountryName', 'CountryCode', 'IndicatorName', 'IndicatorCode'], \n",
    "                        value_vars=[1960, 1961, 1962, 1963],\n",
    "                        var_name='Year', value_name='Value')\n",
    "df_melt[(df_melt.CountryName == 'Arab World') & (df_melt.Value.notnull())].head()"
   ]
  },
  {
   "cell_type": "code",
   "execution_count": 128,
   "metadata": {},
   "outputs": [
    {
     "data": {
      "text/html": [
       "<div>\n",
       "<style>\n",
       "    .dataframe thead tr:only-child th {\n",
       "        text-align: right;\n",
       "    }\n",
       "\n",
       "    .dataframe thead th {\n",
       "        text-align: left;\n",
       "    }\n",
       "\n",
       "    .dataframe tbody tr th {\n",
       "        vertical-align: top;\n",
       "    }\n",
       "</style>\n",
       "<table border=\"1\" class=\"dataframe\">\n",
       "  <thead>\n",
       "    <tr style=\"text-align: right;\">\n",
       "      <th></th>\n",
       "      <th>CountryName</th>\n",
       "      <th>CountryCode</th>\n",
       "      <th>IndicatorName</th>\n",
       "      <th>IndicatorCode</th>\n",
       "      <th>Year</th>\n",
       "      <th>Value</th>\n",
       "    </tr>\n",
       "  </thead>\n",
       "  <tbody>\n",
       "    <tr>\n",
       "      <th>0</th>\n",
       "      <td>Arab World</td>\n",
       "      <td>ARB</td>\n",
       "      <td>Adolescent fertility rate (births per 1,000 wo...</td>\n",
       "      <td>SP.ADO.TFRT</td>\n",
       "      <td>1960</td>\n",
       "      <td>1.335609e+02</td>\n",
       "    </tr>\n",
       "    <tr>\n",
       "      <th>1</th>\n",
       "      <td>Arab World</td>\n",
       "      <td>ARB</td>\n",
       "      <td>Age dependency ratio (% of working-age populat...</td>\n",
       "      <td>SP.POP.DPND</td>\n",
       "      <td>1960</td>\n",
       "      <td>8.779760e+01</td>\n",
       "    </tr>\n",
       "    <tr>\n",
       "      <th>2</th>\n",
       "      <td>Arab World</td>\n",
       "      <td>ARB</td>\n",
       "      <td>Age dependency ratio, old (% of working-age po...</td>\n",
       "      <td>SP.POP.DPND.OL</td>\n",
       "      <td>1960</td>\n",
       "      <td>6.634579e+00</td>\n",
       "    </tr>\n",
       "    <tr>\n",
       "      <th>3</th>\n",
       "      <td>Arab World</td>\n",
       "      <td>ARB</td>\n",
       "      <td>Age dependency ratio, young (% of working-age ...</td>\n",
       "      <td>SP.POP.DPND.YG</td>\n",
       "      <td>1960</td>\n",
       "      <td>8.102333e+01</td>\n",
       "    </tr>\n",
       "    <tr>\n",
       "      <th>4</th>\n",
       "      <td>Arab World</td>\n",
       "      <td>ARB</td>\n",
       "      <td>Arms exports (SIPRI trend indicator values)</td>\n",
       "      <td>MS.MIL.XPRT.KD</td>\n",
       "      <td>1960</td>\n",
       "      <td>3.000000e+06</td>\n",
       "    </tr>\n",
       "  </tbody>\n",
       "</table>\n",
       "</div>"
      ],
      "text/plain": [
       "  CountryName CountryCode                                      IndicatorName  \\\n",
       "0  Arab World         ARB  Adolescent fertility rate (births per 1,000 wo...   \n",
       "1  Arab World         ARB  Age dependency ratio (% of working-age populat...   \n",
       "2  Arab World         ARB  Age dependency ratio, old (% of working-age po...   \n",
       "3  Arab World         ARB  Age dependency ratio, young (% of working-age ...   \n",
       "4  Arab World         ARB        Arms exports (SIPRI trend indicator values)   \n",
       "\n",
       "    IndicatorCode  Year         Value  \n",
       "0     SP.ADO.TFRT  1960  1.335609e+02  \n",
       "1     SP.POP.DPND  1960  8.779760e+01  \n",
       "2  SP.POP.DPND.OL  1960  6.634579e+00  \n",
       "3  SP.POP.DPND.YG  1960  8.102333e+01  \n",
       "4  MS.MIL.XPRT.KD  1960  3.000000e+06  "
      ]
     },
     "execution_count": 128,
     "metadata": {},
     "output_type": "execute_result"
    }
   ],
   "source": [
    "df.head()"
   ]
  }
 ],
 "metadata": {
  "kernelspec": {
   "display_name": "Python 3",
   "language": "python",
   "name": "python3"
  },
  "language_info": {
   "codemirror_mode": {
    "name": "ipython",
    "version": 3
   },
   "file_extension": ".py",
   "mimetype": "text/x-python",
   "name": "python",
   "nbconvert_exporter": "python",
   "pygments_lexer": "ipython3",
   "version": "3.5.2"
  }
 },
 "nbformat": 4,
 "nbformat_minor": 2
}
